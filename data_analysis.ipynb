{
 "cells": [
  {
   "cell_type": "code",
   "execution_count": 27,
   "id": "massive-melbourne",
   "metadata": {},
   "outputs": [],
   "source": [
    "import data_loader as dl\n",
    "import matplotlib.pyplot as plt\n",
    "import numpy as np"
   ]
  },
  {
   "cell_type": "code",
   "execution_count": 7,
   "id": "colonial-platinum",
   "metadata": {},
   "outputs": [],
   "source": [
    "sessions = dl.get_data()\n",
    "sessions.to_csv(\"merged_dataset\", sep=' ')"
   ]
  },
  {
   "cell_type": "code",
   "execution_count": 5,
   "id": "sunset-canvas",
   "metadata": {},
   "outputs": [
    {
     "data": {
      "text/html": [
       "<div>\n",
       "<style scoped>\n",
       "    .dataframe tbody tr th:only-of-type {\n",
       "        vertical-align: middle;\n",
       "    }\n",
       "\n",
       "    .dataframe tbody tr th {\n",
       "        vertical-align: top;\n",
       "    }\n",
       "\n",
       "    .dataframe thead th {\n",
       "        text-align: right;\n",
       "    }\n",
       "</style>\n",
       "<table border=\"1\" class=\"dataframe\">\n",
       "  <thead>\n",
       "    <tr style=\"text-align: right;\">\n",
       "      <th></th>\n",
       "      <th>session_id</th>\n",
       "      <th>event_type</th>\n",
       "      <th>offered_discount</th>\n",
       "      <th>name</th>\n",
       "      <th>city</th>\n",
       "      <th>product_name</th>\n",
       "      <th>category_path</th>\n",
       "      <th>price</th>\n",
       "      <th>delivery_timestamp</th>\n",
       "      <th>delivery_company</th>\n",
       "      <th>duration</th>\n",
       "      <th>purchase</th>\n",
       "    </tr>\n",
       "  </thead>\n",
       "  <tbody>\n",
       "    <tr>\n",
       "      <th>0</th>\n",
       "      <td>100001</td>\n",
       "      <td>VIEW_PRODUCT</td>\n",
       "      <td>20</td>\n",
       "      <td>Marcelina Wyłupek</td>\n",
       "      <td>Police</td>\n",
       "      <td>NaN</td>\n",
       "      <td>NaN</td>\n",
       "      <td>NaN</td>\n",
       "      <td>NaN</td>\n",
       "      <td>NaN</td>\n",
       "      <td>0.0</td>\n",
       "      <td>True</td>\n",
       "    </tr>\n",
       "    <tr>\n",
       "      <th>1</th>\n",
       "      <td>100001</td>\n",
       "      <td>VIEW_PRODUCT</td>\n",
       "      <td>20</td>\n",
       "      <td>Marcelina Wyłupek</td>\n",
       "      <td>Police</td>\n",
       "      <td>LCD BenQ GL2250</td>\n",
       "      <td>Komputery;Monitory;Monitory LCD</td>\n",
       "      <td>349.0</td>\n",
       "      <td>NaN</td>\n",
       "      <td>NaN</td>\n",
       "      <td>88.0</td>\n",
       "      <td>True</td>\n",
       "    </tr>\n",
       "    <tr>\n",
       "      <th>2</th>\n",
       "      <td>100001</td>\n",
       "      <td>VIEW_PRODUCT</td>\n",
       "      <td>20</td>\n",
       "      <td>Marcelina Wyłupek</td>\n",
       "      <td>Police</td>\n",
       "      <td>LCD Asus VK248H</td>\n",
       "      <td>Komputery;Monitory;Monitory LCD</td>\n",
       "      <td>799.0</td>\n",
       "      <td>NaN</td>\n",
       "      <td>NaN</td>\n",
       "      <td>180.0</td>\n",
       "      <td>True</td>\n",
       "    </tr>\n",
       "    <tr>\n",
       "      <th>3</th>\n",
       "      <td>100001</td>\n",
       "      <td>VIEW_PRODUCT</td>\n",
       "      <td>20</td>\n",
       "      <td>Marcelina Wyłupek</td>\n",
       "      <td>Police</td>\n",
       "      <td>LCD Dell U2412M</td>\n",
       "      <td>Komputery;Monitory;Monitory LCD</td>\n",
       "      <td>399.0</td>\n",
       "      <td>NaN</td>\n",
       "      <td>NaN</td>\n",
       "      <td>185.0</td>\n",
       "      <td>True</td>\n",
       "    </tr>\n",
       "    <tr>\n",
       "      <th>4</th>\n",
       "      <td>100001</td>\n",
       "      <td>VIEW_PRODUCT</td>\n",
       "      <td>20</td>\n",
       "      <td>Marcelina Wyłupek</td>\n",
       "      <td>Police</td>\n",
       "      <td>LCD Asus VS197D</td>\n",
       "      <td>Komputery;Monitory;Monitory LCD</td>\n",
       "      <td>269.0</td>\n",
       "      <td>NaN</td>\n",
       "      <td>NaN</td>\n",
       "      <td>471.0</td>\n",
       "      <td>True</td>\n",
       "    </tr>\n",
       "  </tbody>\n",
       "</table>\n",
       "</div>"
      ],
      "text/plain": [
       "   session_id    event_type  offered_discount               name    city  \\\n",
       "0      100001  VIEW_PRODUCT                20  Marcelina Wyłupek  Police   \n",
       "1      100001  VIEW_PRODUCT                20  Marcelina Wyłupek  Police   \n",
       "2      100001  VIEW_PRODUCT                20  Marcelina Wyłupek  Police   \n",
       "3      100001  VIEW_PRODUCT                20  Marcelina Wyłupek  Police   \n",
       "4      100001  VIEW_PRODUCT                20  Marcelina Wyłupek  Police   \n",
       "\n",
       "      product_name                    category_path  price delivery_timestamp  \\\n",
       "0              NaN                              NaN    NaN                NaN   \n",
       "1  LCD BenQ GL2250  Komputery;Monitory;Monitory LCD  349.0                NaN   \n",
       "2  LCD Asus VK248H  Komputery;Monitory;Monitory LCD  799.0                NaN   \n",
       "3  LCD Dell U2412M  Komputery;Monitory;Monitory LCD  399.0                NaN   \n",
       "4  LCD Asus VS197D  Komputery;Monitory;Monitory LCD  269.0                NaN   \n",
       "\n",
       "   delivery_company  duration purchase  \n",
       "0               NaN       0.0     True  \n",
       "1               NaN      88.0     True  \n",
       "2               NaN     180.0     True  \n",
       "3               NaN     185.0     True  \n",
       "4               NaN     471.0     True  "
      ]
     },
     "execution_count": 5,
     "metadata": {},
     "output_type": "execute_result"
    }
   ],
   "source": [
    "sessions.head()"
   ]
  },
  {
   "cell_type": "markdown",
   "id": "caring-dubai",
   "metadata": {},
   "source": [
    "# Ile sesji zakończyło się kupnem?"
   ]
  },
  {
   "cell_type": "code",
   "execution_count": 30,
   "id": "bottom-emphasis",
   "metadata": {},
   "outputs": [],
   "source": [
    "purchases = 0\n",
    "without_pur = 0\n",
    "current_id = 0\n",
    "for i in range(sessions.shape[0]):\n",
    "    if(sessions.iloc[i]['session_id'] != current_id):\n",
    "        current_id = sessions.iloc[i]['session_id']\n",
    "        if(sessions.iloc[i]['purchase']):\n",
    "            purchases += 1\n",
    "        else:\n",
    "            without_pur += 1"
   ]
  },
  {
   "cell_type": "code",
   "execution_count": 39,
   "id": "variable-society",
   "metadata": {},
   "outputs": [
    {
     "data": {
      "image/png": "[encoded data removed]",
      "text/plain": [
       "<Figure size 432x288 with 1 Axes>"
      ]
     },
     "metadata": {
      "needs_background": "light"
     },
     "output_type": "display_data"
    }
   ],
   "source": [
    "labels = ['purchases', 'without_purchase']\n",
    "values = [purchases, without_pur]\n",
    "\n",
    "x = np.arange(len(labels))\n",
    "width = 0.2\n",
    "\n",
    "fig, ax = plt.subplots()\n",
    "rects = ax.bar(x, values, width)\n",
    "\n",
    "ax.set_ylabel('Amount')\n",
    "ax.set_title('How many sessions ended with or without purchase')\n",
    "ax.set_xticks(x)\n",
    "ax.set_xticklabels(labels)\n",
    "\n",
    "def autolabel(rects):\n",
    "    \"\"\"Attach a text label above each bar in *rects*, displaying its height.\"\"\"\n",
    "    for rect in rects:\n",
    "        height = rect.get_height()\n",
    "        ax.annotate('{}'.format(height),\n",
    "                    xy=(rect.get_x() + rect.get_width() / 2, height),\n",
    "                    xytext=(0, 0),  \n",
    "                    textcoords=\"offset points\",\n",
    "                    ha='center', va='bottom')\n",
    "\n",
    "autolabel(rects)\n",
    "\n",
    "fig.tight_layout()\n",
    "\n",
    "plt.show()"
   ]
  },
  {
   "cell_type": "markdown",
   "id": "direct-induction",
   "metadata": {},
   "source": [
    "# Czy oferowana zniżka wpływała na dokonanie zakupu?"
   ]
  },
  {
   "cell_type": "code",
   "execution_count": 43,
   "id": "processed-decline",
   "metadata": {},
   "outputs": [],
   "source": [
    "purchases_discount = 0\n",
    "purchases_without_d = 0\n",
    "without_pur_discount = 0\n",
    "without_pur_without_d = 0\n",
    "current_id = 0\n",
    "for i in range(sessions.shape[0]):\n",
    "    if(sessions.iloc[i]['session_id'] != current_id):\n",
    "        current_id = sessions.iloc[i]['session_id']\n",
    "        if(sessions.iloc[i]['purchase']):\n",
    "            if(sessions.iloc[i]['offered_discount']):\n",
    "                purchases_discount += 1\n",
    "            else:\n",
    "                purchases_without_d += 1\n",
    "        else:\n",
    "            if(sessions.iloc[i]['offered_discount']):\n",
    "                without_pur_discount += 1\n",
    "            else:\n",
    "                without_pur_without_d += 1\n",
    "                "
   ]
  },
  {
   "cell_type": "code",
   "execution_count": 46,
   "id": "official-paraguay",
   "metadata": {},
   "outputs": [
    {
     "data": {
      "image/png": "[encoded data removed]",
      "text/plain": [
       "<Figure size 432x288 with 1 Axes>"
      ]
     },
     "metadata": {
      "needs_background": "light"
     },
     "output_type": "display_data"
    }
   ],
   "source": [
    "labels = ['purchases', 'without_purchase']\n",
    "with_discount = [purchases_discount, without_pur_discount]\n",
    "without_discount = [purchases_without_d, without_pur_without_d]\n",
    "\n",
    "x = np.arange(len(labels))\n",
    "width = 0.2\n",
    "\n",
    "fig, ax = plt.subplots()\n",
    "rects1 = ax.bar(x - width/2, with_discount, width, label='Discount')\n",
    "rects2 = ax.bar(x + width/2, without_discount, width, label='Without discount')\n",
    "                \n",
    "ax.set_ylabel('Amount')\n",
    "ax.set_title('Amount by purcheses and discount')\n",
    "ax.set_xticks(x)\n",
    "ax.set_xticklabels(labels)\n",
    "ax.legend()\n",
    "                \n",
    "autolabel(rects1)\n",
    "autolabel(rects2)\n",
    "\n",
    "fig.tight_layout()\n",
    "\n",
    "plt.show()"
   ]
  },
  {
   "cell_type": "markdown",
   "id": "confidential-recorder",
   "metadata": {},
   "source": [
    "# Jak wpływała wielkość oferowanej zniżki?"
   ]
  },
  {
   "cell_type": "code",
   "execution_count": 57,
   "id": "operating-resolution",
   "metadata": {},
   "outputs": [
    {
     "data": {
      "text/plain": [
       "array([ 0,  5, 10, 15, 20])"
      ]
     },
     "execution_count": 57,
     "metadata": {},
     "output_type": "execute_result"
    }
   ],
   "source": [
    "discounts = sessions['offered_discount'].unique()\n",
    "discounts.sort()\n",
    "discounts"
   ]
  },
  {
   "cell_type": "code",
   "execution_count": 62,
   "id": "ultimate-perception",
   "metadata": {},
   "outputs": [],
   "source": [
    "data = [[0,0], [0,0], [0,0], [0,0], [0,0]]\n",
    "current_id = 0\n",
    "for i in range(sessions.shape[0]):\n",
    "    if(sessions.iloc[i]['session_id'] != current_id):\n",
    "        current_id = sessions.iloc[i]['session_id']\n",
    "        if(sessions.iloc[i]['purchase']):\n",
    "            discount_index = sessions.iloc[i]['offered_discount']/5\n",
    "            data[int(discount_index)][0] += 1\n",
    "        else:\n",
    "            discount_index = sessions.iloc[i]['offered_discount']/5\n",
    "            data[int(discount_index)][1] += 1\n"
   ]
  },
  {
   "cell_type": "code",
   "execution_count": 73,
   "id": "contrary-relation",
   "metadata": {},
   "outputs": [
    {
     "data": {
      "image/png": "[encoded data removed]",
      "text/plain": [
       "<Figure size 432x288 with 1 Axes>"
      ]
     },
     "metadata": {
      "needs_background": "light"
     },
     "output_type": "display_data"
    }
   ],
   "source": [
    "labels = ['0', '5', '10', '15', '20']\n",
    "purchases = [data[0][0], data[1][0], data[2][0], data[3][0], data[4][0]]\n",
    "without_purchases = [data[0][1], data[1][1], data[2][1], data[3][1], data[4][1]]\n",
    "\n",
    "x = np.arange(len(labels))\n",
    "width = 0.45\n",
    "\n",
    "fig, ax = plt.subplots()\n",
    "rects1 = ax.bar(x - width/2, purchases, width, label='Purchases')\n",
    "rects2 = ax.bar(x + width/2, without_purchases, width, label='Without purchase')\n",
    "                \n",
    "ax.set_ylabel('Amount')\n",
    "ax.set_title('Amount by purcheses and discount')\n",
    "ax.set_xticks(x)\n",
    "ax.set_xticklabels(labels)\n",
    "ax.legend()\n",
    "                \n",
    "autolabel(rects1)\n",
    "autolabel(rects2)\n",
    "\n",
    "fig.tight_layout()\n",
    "\n",
    "plt.show()"
   ]
  },
  {
   "cell_type": "markdown",
   "id": "polyphonic-elder",
   "metadata": {},
   "source": [
    "# Długość sesji a zakup"
   ]
  },
  {
   "cell_type": "code",
   "execution_count": 74,
   "id": "double-norman",
   "metadata": {},
   "outputs": [],
   "source": [
    "current_id = 100001\n",
    "current_duration = 0\n",
    "purchase = False\n",
    "data_set = []\n",
    "for i in range(sessions.shape[0]):\n",
    "    if(sessions.iloc[i]['session_id'] != current_id):\n",
    "        temp = [current_id, current_duration, purchase]\n",
    "        data_set.append(temp)\n",
    "        current_id = sessions.iloc[i]['session_id']\n",
    "        current_duration = sessions.iloc[i]['duration']\n",
    "        purchase = sessions.iloc[i]['purchase']\n",
    "    else:\n",
    "        current_duration = sessions.iloc[i]['duration']\n",
    "        "
   ]
  },
  {
   "cell_type": "code",
   "execution_count": 77,
   "id": "transparent-iraqi",
   "metadata": {},
   "outputs": [
    {
     "name": "stdout",
     "output_type": "stream",
     "text": [
      "469.1884290879871\n",
      "327.5334385480371\n"
     ]
    }
   ],
   "source": [
    "purchase_sum = 0\n",
    "without_sum = 0\n",
    "purchases = 0\n",
    "without_purchases = 0\n",
    "\n",
    "for i in range(len(data_set)):\n",
    "    if(data_set[i][2]):\n",
    "        purchases += 1\n",
    "        purchase_sum += data_set[i][1]\n",
    "    else:\n",
    "        without_purchases += 1\n",
    "        without_sum += data_set[i][1]\n",
    "\n",
    "average_purchase_time = purchase_sum / purchases\n",
    "average_without_time = without_sum / without_purchases\n",
    "\n",
    "print(average_purchase_time)\n",
    "print(average_without_time)"
   ]
  },
  {
   "cell_type": "code",
   "execution_count": null,
   "id": "amazing-birth",
   "metadata": {},
   "outputs": [],
   "source": []
  }
 ],
 "metadata": {
  "kernelspec": {
   "display_name": "Python 3",
   "language": "python",
   "name": "python3"
  },
  "language_info": {
   "codemirror_mode": {
    "name": "ipython",
    "version": 3
   },
   "file_extension": ".py",
   "mimetype": "text/x-python",
   "name": "python",
   "nbconvert_exporter": "python",
   "pygments_lexer": "ipython3",
   "version": "3.7.5"
  }
 },
 "nbformat": 4,
 "nbformat_minor": 5
}
