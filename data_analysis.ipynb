{
 "cells": [
  {
   "cell_type": "code",
   "execution_count": 55,
   "id": "massive-melbourne",
   "metadata": {},
   "outputs": [
    {
     "name": "stdout",
     "output_type": "stream",
     "text": [
      "The autoreload extension is already loaded. To reload it, use:\n",
      "  %reload_ext autoreload\n"
     ]
    }
   ],
   "source": [
    "import data_loader as dl\n",
    "import matplotlib.pyplot as plt\n",
    "import numpy as np\n",
    "import pandas as pd\n",
    "\n",
    "%load_ext autoreload\n",
    "%autoreload 2"
   ]
  },
  {
   "cell_type": "code",
   "execution_count": 56,
   "id": "colonial-platinum",
   "metadata": {},
   "outputs": [],
   "source": [
    "sessions = dl.get_data()\n",
    "sessions.to_csv(\"merged_dataset\", sep=' ')"
   ]
  },
  {
   "cell_type": "code",
   "execution_count": 57,
   "id": "sunset-canvas",
   "metadata": {},
   "outputs": [
    {
     "data": {
      "text/plain": "   session_id  user_id  offered_discount  duration weekend    month   day  \\\n0      100001    102.0                20       0.0   False  January  26.0   \n1      100001    102.0                20      88.0   False  January  26.0   \n2      100001    102.0                20     180.0   False  January  26.0   \n3      100001    102.0                20     185.0   False  January  26.0   \n4      100001    102.0                20     471.0   False  January  26.0   \n\n   hour  unique_item_views  item_views  click_rate  unique_categories purchase  \n0  14.0                1.0         1.0    0.000000                1.0     True  \n1  14.0                2.0         2.0    1.363636                2.0     True  \n2  14.0                3.0         3.0    1.000000                2.0     True  \n3  14.0                4.0         4.0    1.297297                2.0     True  \n4  14.0                5.0         5.0    0.636943                2.0     True  ",
      "text/html": "<div>\n<style scoped>\n    .dataframe tbody tr th:only-of-type {\n        vertical-align: middle;\n    }\n\n    .dataframe tbody tr th {\n        vertical-align: top;\n    }\n\n    .dataframe thead th {\n        text-align: right;\n    }\n</style>\n<table border=\"1\" class=\"dataframe\">\n  <thead>\n    <tr style=\"text-align: right;\">\n      <th></th>\n      <th>session_id</th>\n      <th>user_id</th>\n      <th>offered_discount</th>\n      <th>duration</th>\n      <th>weekend</th>\n      <th>month</th>\n      <th>day</th>\n      <th>hour</th>\n      <th>unique_item_views</th>\n      <th>item_views</th>\n      <th>click_rate</th>\n      <th>unique_categories</th>\n      <th>purchase</th>\n    </tr>\n  </thead>\n  <tbody>\n    <tr>\n      <th>0</th>\n      <td>100001</td>\n      <td>102.0</td>\n      <td>20</td>\n      <td>0.0</td>\n      <td>False</td>\n      <td>January</td>\n      <td>26.0</td>\n      <td>14.0</td>\n      <td>1.0</td>\n      <td>1.0</td>\n      <td>0.000000</td>\n      <td>1.0</td>\n      <td>True</td>\n    </tr>\n    <tr>\n      <th>1</th>\n      <td>100001</td>\n      <td>102.0</td>\n      <td>20</td>\n      <td>88.0</td>\n      <td>False</td>\n      <td>January</td>\n      <td>26.0</td>\n      <td>14.0</td>\n      <td>2.0</td>\n      <td>2.0</td>\n      <td>1.363636</td>\n      <td>2.0</td>\n      <td>True</td>\n    </tr>\n    <tr>\n      <th>2</th>\n      <td>100001</td>\n      <td>102.0</td>\n      <td>20</td>\n      <td>180.0</td>\n      <td>False</td>\n      <td>January</td>\n      <td>26.0</td>\n      <td>14.0</td>\n      <td>3.0</td>\n      <td>3.0</td>\n      <td>1.000000</td>\n      <td>2.0</td>\n      <td>True</td>\n    </tr>\n    <tr>\n      <th>3</th>\n      <td>100001</td>\n      <td>102.0</td>\n      <td>20</td>\n      <td>185.0</td>\n      <td>False</td>\n      <td>January</td>\n      <td>26.0</td>\n      <td>14.0</td>\n      <td>4.0</td>\n      <td>4.0</td>\n      <td>1.297297</td>\n      <td>2.0</td>\n      <td>True</td>\n    </tr>\n    <tr>\n      <th>4</th>\n      <td>100001</td>\n      <td>102.0</td>\n      <td>20</td>\n      <td>471.0</td>\n      <td>False</td>\n      <td>January</td>\n      <td>26.0</td>\n      <td>14.0</td>\n      <td>5.0</td>\n      <td>5.0</td>\n      <td>0.636943</td>\n      <td>2.0</td>\n      <td>True</td>\n    </tr>\n  </tbody>\n</table>\n</div>"
     },
     "execution_count": 57,
     "metadata": {},
     "output_type": "execute_result"
    }
   ],
   "source": [
    "sessions.head()"
   ]
  },
  {
   "cell_type": "markdown",
   "id": "caring-dubai",
   "metadata": {},
   "source": [
    "# Ile sesji zakończyło się kupnem?"
   ]
  },
  {
   "cell_type": "code",
   "execution_count": 58,
   "id": "bottom-emphasis",
   "metadata": {},
   "outputs": [],
   "source": [
    "purchases = 0\n",
    "without_pur = 0\n",
    "current_id = 0\n",
    "for i in range(sessions.shape[0]):\n",
    "    if(sessions.iloc[i]['session_id'] != current_id):\n",
    "        current_id = sessions.iloc[i]['session_id']\n",
    "        if(sessions.iloc[i]['purchase']):\n",
    "            purchases += 1\n",
    "        else:\n",
    "            without_pur += 1"
   ]
  },
  {
   "cell_type": "code",
   "execution_count": 59,
   "id": "variable-society",
   "metadata": {},
   "outputs": [
    {
     "data": {
      "text/plain": "<Figure size 720x432 with 1 Axes>",
      "image/png": "[encoded data removed]"
     },
     "metadata": {
      "needs_background": "light"
     },
     "output_type": "display_data"
    }
   ],
   "source": [
    "labels = ['purchases', 'without_purchase']\n",
    "values = [purchases, without_pur]\n",
    "\n",
    "x = np.arange(len(labels))\n",
    "width = 0.2\n",
    "\n",
    "fig, ax = plt.subplots(figsize=(10,6))\n",
    "rects = ax.bar(x, values, width)\n",
    "\n",
    "ax.set_ylabel('Amount')\n",
    "ax.set_title('How many sessions ended with or without purchase')\n",
    "ax.set_xticks(x)\n",
    "ax.set_xticklabels(labels)\n",
    "\n",
    "def autolabel(rects):\n",
    "    \"\"\"Attach a text label above each bar in *rects*, displaying its height.\"\"\"\n",
    "    for rect in rects:\n",
    "        height = rect.get_height()\n",
    "        ax.annotate('{}'.format(height),\n",
    "                    xy=(rect.get_x() + rect.get_width() / 2, height),\n",
    "                    xytext=(0, 0),  \n",
    "                    textcoords=\"offset points\",\n",
    "                    ha='center', va='bottom')\n",
    "\n",
    "autolabel(rects)\n",
    "\n",
    "fig.tight_layout()\n",
    "\n",
    "plt.show()"
   ]
  },
  {
   "cell_type": "markdown",
   "id": "direct-induction",
   "metadata": {},
   "source": [
    "# Czy oferowana zniżka wpływała na dokonanie zakupu?"
   ]
  },
  {
   "cell_type": "code",
   "execution_count": 60,
   "id": "processed-decline",
   "metadata": {},
   "outputs": [],
   "source": [
    "purchases_discount = 0\n",
    "purchases_without_d = 0\n",
    "without_pur_discount = 0\n",
    "without_pur_without_d = 0\n",
    "current_id = 0\n",
    "for i in range(sessions.shape[0]):\n",
    "    if(sessions.iloc[i]['session_id'] != current_id):\n",
    "        current_id = sessions.iloc[i]['session_id']\n",
    "        if(sessions.iloc[i]['purchase']):\n",
    "            if(sessions.iloc[i]['offered_discount']):\n",
    "                purchases_discount += 1\n",
    "            else:\n",
    "                purchases_without_d += 1\n",
    "        else:\n",
    "            if(sessions.iloc[i]['offered_discount']):\n",
    "                without_pur_discount += 1\n",
    "            else:\n",
    "                without_pur_without_d += 1\n",
    "                "
   ]
  },
  {
   "cell_type": "code",
   "execution_count": 61,
   "id": "official-paraguay",
   "metadata": {},
   "outputs": [
    {
     "data": {
      "text/plain": "<Figure size 720x432 with 1 Axes>",
      "image/png": "[encoded data removed]"
     },
     "metadata": {
      "needs_background": "light"
     },
     "output_type": "display_data"
    }
   ],
   "source": [
    "labels = ['purchases', 'without_purchase']\n",
    "with_discount = [purchases_discount, without_pur_discount]\n",
    "without_discount = [purchases_without_d, without_pur_without_d]\n",
    "\n",
    "x = np.arange(len(labels))\n",
    "width = 0.2\n",
    "\n",
    "fig, ax = plt.subplots(figsize=(10,6))\n",
    "rects1 = ax.bar(x - width/2, with_discount, width, label='Discount')\n",
    "rects2 = ax.bar(x + width/2, without_discount, width, label='Without discount')\n",
    "                \n",
    "ax.set_ylabel('Amount')\n",
    "ax.set_title('Amount by purcheses and discount')\n",
    "ax.set_xticks(x)\n",
    "ax.set_xticklabels(labels)\n",
    "ax.legend()\n",
    "                \n",
    "autolabel(rects1)\n",
    "autolabel(rects2)\n",
    "\n",
    "fig.tight_layout()\n",
    "\n",
    "plt.show()"
   ]
  },
  {
   "cell_type": "markdown",
   "id": "confidential-recorder",
   "metadata": {},
   "source": [
    "# Jak wpływała wielkość oferowanej zniżki?"
   ]
  },
  {
   "cell_type": "code",
   "execution_count": 62,
   "id": "operating-resolution",
   "metadata": {},
   "outputs": [
    {
     "data": {
      "text/plain": "array([ 0,  5, 10, 15, 20])"
     },
     "execution_count": 62,
     "metadata": {},
     "output_type": "execute_result"
    }
   ],
   "source": [
    "discounts = sessions['offered_discount'].unique()\n",
    "discounts.sort()\n",
    "discounts"
   ]
  },
  {
   "cell_type": "code",
   "execution_count": 63,
   "id": "ultimate-perception",
   "metadata": {},
   "outputs": [],
   "source": [
    "data = [[0,0], [0,0], [0,0], [0,0], [0,0]]\n",
    "current_id = 0\n",
    "for i in range(sessions.shape[0]):\n",
    "    if(sessions.iloc[i]['session_id'] != current_id):\n",
    "        current_id = sessions.iloc[i]['session_id']\n",
    "        if(sessions.iloc[i]['purchase']):\n",
    "            discount_index = sessions.iloc[i]['offered_discount']/5\n",
    "            data[int(discount_index)][0] += 1\n",
    "        else:\n",
    "            discount_index = sessions.iloc[i]['offered_discount']/5\n",
    "            data[int(discount_index)][1] += 1\n"
   ]
  },
  {
   "cell_type": "code",
   "execution_count": 64,
   "id": "contrary-relation",
   "metadata": {},
   "outputs": [
    {
     "data": {
      "text/plain": "<Figure size 720x432 with 1 Axes>",
      "image/png": "[encoded data removed]"
     },
     "metadata": {
      "needs_background": "light"
     },
     "output_type": "display_data"
    }
   ],
   "source": [
    "labels = ['0', '5', '10', '15', '20']\n",
    "purchases = [data[0][0], data[1][0], data[2][0], data[3][0], data[4][0]]\n",
    "without_purchases = [data[0][1], data[1][1], data[2][1], data[3][1], data[4][1]]\n",
    "\n",
    "x = np.arange(len(labels))\n",
    "width = 0.45\n",
    "\n",
    "fig, ax = plt.subplots(figsize=(10,6))\n",
    "rects1 = ax.bar(x - width/2, purchases, width, label='Purchases')\n",
    "rects2 = ax.bar(x + width/2, without_purchases, width, label='Without purchase')\n",
    "                \n",
    "ax.set_ylabel('Amount')\n",
    "ax.set_title('Amount by purcheses and discount')\n",
    "ax.set_xticks(x)\n",
    "ax.set_xticklabels(labels)\n",
    "ax.legend()\n",
    "                \n",
    "autolabel(rects1)\n",
    "autolabel(rects2)\n",
    "\n",
    "fig.tight_layout()\n",
    "\n",
    "plt.show()"
   ]
  },
  {
   "cell_type": "markdown",
   "id": "polyphonic-elder",
   "metadata": {},
   "source": [
    "# Długość sesji a zakup"
   ]
  },
  {
   "cell_type": "code",
   "execution_count": 70,
   "id": "double-norman",
   "metadata": {},
   "outputs": [],
   "source": [
    "current_id = 100001\n",
    "current_duration = 0\n",
    "purchase = False\n",
    "data_set = []\n",
    "for i in range(sessions.shape[0]):\n",
    "    if(sessions.iloc[i]['session_id'] != current_id):\n",
    "        temp = [current_id, current_duration, purchase]\n",
    "        data_set.append(temp)\n",
    "        current_id = sessions.iloc[i]['session_id']\n",
    "        current_duration = sessions.iloc[i]['duration']\n",
    "        purchase = sessions.iloc[i]['purchase']\n",
    "    else:\n",
    "        current_duration = sessions.iloc[i]['duration']\n",
    "        "
   ]
  },
  {
   "cell_type": "code",
   "execution_count": 71,
   "id": "transparent-iraqi",
   "metadata": {},
   "outputs": [],
   "source": [
    "purchases = []\n",
    "without_p = []\n",
    "\n",
    "for i in range(len(data_set)):\n",
    "    if(data_set[i][2]):\n",
    "        purchases.append(data_set[i][1])\n",
    "    else:\n",
    "        without_p.append(data_set[i][1])\n",
    "\n",
    "pur_time = np.array(purchases)\n",
    "without_pur_time = np.array(without_p)"
   ]
  },
  {
   "cell_type": "code",
   "execution_count": 72,
   "id": "amazing-birth",
   "metadata": {
    "scrolled": true
   },
   "outputs": [
    {
     "data": {
      "text/plain": "                     Average  Median  Min     Max       Variance  \\\nPurchases         469.188429   292.0  5.0  2158.0  177233.239705   \nWithout Purchase  327.533439   141.0  0.0  2368.0  183114.789028   \n\n                  Standard deviation  Amount  \nPurchases                 420.990783    4978  \nWithout Purchase          427.919138    5069  ",
      "text/html": "<div>\n<style scoped>\n    .dataframe tbody tr th:only-of-type {\n        vertical-align: middle;\n    }\n\n    .dataframe tbody tr th {\n        vertical-align: top;\n    }\n\n    .dataframe thead th {\n        text-align: right;\n    }\n</style>\n<table border=\"1\" class=\"dataframe\">\n  <thead>\n    <tr style=\"text-align: right;\">\n      <th></th>\n      <th>Average</th>\n      <th>Median</th>\n      <th>Min</th>\n      <th>Max</th>\n      <th>Variance</th>\n      <th>Standard deviation</th>\n      <th>Amount</th>\n    </tr>\n  </thead>\n  <tbody>\n    <tr>\n      <th>Purchases</th>\n      <td>469.188429</td>\n      <td>292.0</td>\n      <td>5.0</td>\n      <td>2158.0</td>\n      <td>177233.239705</td>\n      <td>420.990783</td>\n      <td>4978</td>\n    </tr>\n    <tr>\n      <th>Without Purchase</th>\n      <td>327.533439</td>\n      <td>141.0</td>\n      <td>0.0</td>\n      <td>2368.0</td>\n      <td>183114.789028</td>\n      <td>427.919138</td>\n      <td>5069</td>\n    </tr>\n  </tbody>\n</table>\n</div>"
     },
     "execution_count": 72,
     "metadata": {},
     "output_type": "execute_result"
    }
   ],
   "source": [
    "df = pd.DataFrame({\"Average\" : [np.average(pur_time), np.average(without_pur_time)],\n",
    "                   \"Median\" : [np.median(pur_time), np.median(without_pur_time)],\n",
    "                   \"Min\" : [np.min(pur_time), np.min(without_pur_time)],\n",
    "                   \"Max\" : [np.max(pur_time), np.max(without_pur_time)],\n",
    "                   \"Variance\" : [np.var(pur_time), np.var(without_pur_time)],\n",
    "                   \"Standard deviation\" : [np.std(pur_time), np.std(without_pur_time)],\n",
    "                   \"Amount\" : [len(pur_time), len(without_pur_time)]})\n",
    "df = df.rename(index={0 : \"Purchases\", 1 : \"Without Purchase\"})\n",
    "df"
   ]
  },
  {
   "cell_type": "markdown",
   "id": "developed-parade",
   "metadata": {},
   "source": [
    "# Długość trwania sesji zakończonej zakupem"
   ]
  },
  {
   "cell_type": "code",
   "execution_count": 73,
   "id": "military-portsmouth",
   "metadata": {},
   "outputs": [],
   "source": [
    "purchase = np.zeros(22)\n",
    "for i in range(len(pur_time)):\n",
    "    purchase[int(pur_time[i]/100)] += 1"
   ]
  },
  {
   "cell_type": "code",
   "execution_count": 74,
   "id": "historical-basin",
   "metadata": {},
   "outputs": [
    {
     "data": {
      "text/plain": "<Figure size 720x432 with 1 Axes>",
      "image/png": "[encoded data removed]"
     },
     "metadata": {
      "needs_background": "light"
     },
     "output_type": "display_data"
    }
   ],
   "source": [
    "labels = ['0', '1', '2', '3', '4', '5', '6', '7', '8', '9', '10', '11', '12', '13',\n",
    "          '14', '15', '16', '17', '18', '19', '20', '21']\n",
    "\n",
    "x = np.arange(len(labels))\n",
    "width = 0.35\n",
    "\n",
    "fig, ax = plt.subplots(figsize=(10,6))\n",
    "rects = ax.bar(x, purchase, width)\n",
    "\n",
    "ax.set_ylabel('Amount')\n",
    "ax.set_title('Time in witch purchase was made (x*100)')\n",
    "ax.set_xticks(x)\n",
    "ax.set_xticklabels(labels)\n",
    "\n",
    "\n",
    "plt.show()"
   ]
  },
  {
   "cell_type": "markdown",
   "id": "described-insured",
   "metadata": {},
   "source": [
    "# Długość trwania sesji która nie zakończyła się zakupem"
   ]
  },
  {
   "cell_type": "code",
   "execution_count": 75,
   "id": "flying-assessment",
   "metadata": {},
   "outputs": [],
   "source": [
    "without = np.zeros(24)\n",
    "for i in range(len(without_pur_time)):\n",
    "    without[int(without_pur_time[i]/100)] += 1"
   ]
  },
  {
   "cell_type": "code",
   "execution_count": 76,
   "id": "comic-organizer",
   "metadata": {},
   "outputs": [
    {
     "data": {
      "text/plain": "<Figure size 720x432 with 1 Axes>",
      "image/png": "[encoded data removed]"
     },
     "metadata": {
      "needs_background": "light"
     },
     "output_type": "display_data"
    }
   ],
   "source": [
    "labels = ['0', '1', '2', '3', '4', '5', '6', '7', '8', '9', '10', '11', '12', '13',\n",
    "          '14', '15', '16', '17', '18', '19', '20', '21', '22', '23']\n",
    "\n",
    "x = np.arange(len(labels))\n",
    "width = 0.45\n",
    "\n",
    "fig, ax = plt.subplots(figsize=(10,6))\n",
    "rects = ax.bar(x, without, width)\n",
    "\n",
    "ax.set_ylabel('Amount')\n",
    "ax.set_title('Time in witch purchase was made (x*100)')\n",
    "ax.set_xticks(x)\n",
    "ax.set_xticklabels(labels)\n",
    "\n",
    "plt.show()"
   ]
  },
  {
   "cell_type": "code",
   "execution_count": null,
   "id": "horizontal-pasta",
   "metadata": {},
   "outputs": [],
   "source": []
  }
 ],
 "metadata": {
  "kernelspec": {
   "display_name": "Python 3",
   "language": "python",
   "name": "python3"
  },
  "language_info": {
   "codemirror_mode": {
    "name": "ipython",
    "version": 3
   },
   "file_extension": ".py",
   "mimetype": "text/x-python",
   "name": "python",
   "nbconvert_exporter": "python",
   "pygments_lexer": "ipython3",
   "version": "3.7.5"
  }
 },
 "nbformat": 4,
 "nbformat_minor": 5
}