{
 "cells": [
  {
   "cell_type": "code",
   "execution_count": 1,
   "id": "massive-melbourne",
   "metadata": {},
   "outputs": [],
   "source": [
    "import data_loader as dl\n",
    "import matplotlib.pyplot as plt\n",
    "import numpy as np\n",
    "import pandas as pd\n",
    "\n",
    "%load_ext autoreload\n",
    "%autoreload 2"
   ]
  },
  {
   "cell_type": "code",
   "execution_count": 2,
   "id": "colonial-platinum",
   "metadata": {},
   "outputs": [],
   "source": [
    "sessions = dl.get_data()\n",
    "sessions.to_csv(\"merged_dataset\", sep=' ')"
   ]
  },
  {
   "cell_type": "code",
   "execution_count": 3,
   "id": "sunset-canvas",
   "metadata": {},
   "outputs": [
    {
     "data": {
      "text/html": [
       "<div>\n",
       "<style scoped>\n",
       "    .dataframe tbody tr th:only-of-type {\n",
       "        vertical-align: middle;\n",
       "    }\n",
       "\n",
       "    .dataframe tbody tr th {\n",
       "        vertical-align: top;\n",
       "    }\n",
       "\n",
       "    .dataframe thead th {\n",
       "        text-align: right;\n",
       "    }\n",
       "</style>\n",
       "<table border=\"1\" class=\"dataframe\">\n",
       "  <thead>\n",
       "    <tr style=\"text-align: right;\">\n",
       "      <th></th>\n",
       "      <th>session_id</th>\n",
       "      <th>user_id</th>\n",
       "      <th>offered_discount</th>\n",
       "      <th>duration</th>\n",
       "      <th>weekend</th>\n",
       "      <th>month</th>\n",
       "      <th>day</th>\n",
       "      <th>hour</th>\n",
       "      <th>unique_item_views</th>\n",
       "      <th>item_views</th>\n",
       "      <th>click_rate</th>\n",
       "      <th>unique_categories</th>\n",
       "      <th>purchase</th>\n",
       "    </tr>\n",
       "  </thead>\n",
       "  <tbody>\n",
       "    <tr>\n",
       "      <th>0</th>\n",
       "      <td>100001</td>\n",
       "      <td>102.0</td>\n",
       "      <td>20</td>\n",
       "      <td>0.0</td>\n",
       "      <td>False</td>\n",
       "      <td>January</td>\n",
       "      <td>26.0</td>\n",
       "      <td>14.0</td>\n",
       "      <td>1.0</td>\n",
       "      <td>1.0</td>\n",
       "      <td>0.000000</td>\n",
       "      <td>1.0</td>\n",
       "      <td>True</td>\n",
       "    </tr>\n",
       "    <tr>\n",
       "      <th>1</th>\n",
       "      <td>100001</td>\n",
       "      <td>102.0</td>\n",
       "      <td>20</td>\n",
       "      <td>88.0</td>\n",
       "      <td>False</td>\n",
       "      <td>January</td>\n",
       "      <td>26.0</td>\n",
       "      <td>14.0</td>\n",
       "      <td>2.0</td>\n",
       "      <td>2.0</td>\n",
       "      <td>1.363636</td>\n",
       "      <td>2.0</td>\n",
       "      <td>True</td>\n",
       "    </tr>\n",
       "    <tr>\n",
       "      <th>2</th>\n",
       "      <td>100001</td>\n",
       "      <td>102.0</td>\n",
       "      <td>20</td>\n",
       "      <td>180.0</td>\n",
       "      <td>False</td>\n",
       "      <td>January</td>\n",
       "      <td>26.0</td>\n",
       "      <td>14.0</td>\n",
       "      <td>3.0</td>\n",
       "      <td>3.0</td>\n",
       "      <td>1.000000</td>\n",
       "      <td>2.0</td>\n",
       "      <td>True</td>\n",
       "    </tr>\n",
       "    <tr>\n",
       "      <th>3</th>\n",
       "      <td>100001</td>\n",
       "      <td>102.0</td>\n",
       "      <td>20</td>\n",
       "      <td>185.0</td>\n",
       "      <td>False</td>\n",
       "      <td>January</td>\n",
       "      <td>26.0</td>\n",
       "      <td>14.0</td>\n",
       "      <td>4.0</td>\n",
       "      <td>4.0</td>\n",
       "      <td>1.297297</td>\n",
       "      <td>2.0</td>\n",
       "      <td>True</td>\n",
       "    </tr>\n",
       "    <tr>\n",
       "      <th>4</th>\n",
       "      <td>100001</td>\n",
       "      <td>102.0</td>\n",
       "      <td>20</td>\n",
       "      <td>471.0</td>\n",
       "      <td>False</td>\n",
       "      <td>January</td>\n",
       "      <td>26.0</td>\n",
       "      <td>14.0</td>\n",
       "      <td>5.0</td>\n",
       "      <td>5.0</td>\n",
       "      <td>0.636943</td>\n",
       "      <td>2.0</td>\n",
       "      <td>True</td>\n",
       "    </tr>\n",
       "  </tbody>\n",
       "</table>\n",
       "</div>"
      ],
      "text/plain": [
       "   session_id  user_id  offered_discount  duration weekend    month   day  \\\n",
       "0      100001    102.0                20       0.0   False  January  26.0   \n",
       "1      100001    102.0                20      88.0   False  January  26.0   \n",
       "2      100001    102.0                20     180.0   False  January  26.0   \n",
       "3      100001    102.0                20     185.0   False  January  26.0   \n",
       "4      100001    102.0                20     471.0   False  January  26.0   \n",
       "\n",
       "   hour  unique_item_views  item_views  click_rate  unique_categories purchase  \n",
       "0  14.0                1.0         1.0    0.000000                1.0     True  \n",
       "1  14.0                2.0         2.0    1.363636                2.0     True  \n",
       "2  14.0                3.0         3.0    1.000000                2.0     True  \n",
       "3  14.0                4.0         4.0    1.297297                2.0     True  \n",
       "4  14.0                5.0         5.0    0.636943                2.0     True  "
      ]
     },
     "execution_count": 3,
     "metadata": {},
     "output_type": "execute_result"
    }
   ],
   "source": [
    "sessions.head()"
   ]
  },
  {
   "cell_type": "markdown",
   "id": "caring-dubai",
   "metadata": {},
   "source": [
    "# Ile sesji zakończyło się kupnem?"
   ]
  },
  {
   "cell_type": "code",
   "execution_count": 4,
   "id": "bottom-emphasis",
   "metadata": {},
   "outputs": [],
   "source": [
    "purchases = 0\n",
    "without_pur = 0\n",
    "current_id = 0\n",
    "weekend = 0\n",
    "week = 0\n",
    "for i in range(sessions.shape[0]):\n",
    "    if(sessions.iloc[i]['session_id'] != current_id):\n",
    "        current_id = sessions.iloc[i]['session_id']\n",
    "        if(sessions.iloc[i]['purchase']):\n",
    "            purchases += 1\n",
    "            if(sessions.iloc[i]['weekend']):\n",
    "                weekend += 1\n",
    "            else:\n",
    "                week += 1\n",
    "        else:\n",
    "            without_pur += 1\n",
    "\n",
    "if(sessions.iloc[i]['purchase']):\n",
    "    purchases += 1\n",
    "    if(sessions.iloc[i]['weekend']):\n",
    "        weekend += 1\n",
    "    else:\n",
    "        week += 1\n",
    "else:\n",
    "    without_pur += 1"
   ]
  },
  {
   "cell_type": "code",
   "execution_count": 5,
   "id": "variable-society",
   "metadata": {},
   "outputs": [
    {
     "data": {
      "image/png": "[encoded data removed]",
      "text/plain": [
       "<Figure size 720x432 with 1 Axes>"
      ]
     },
     "metadata": {
      "needs_background": "light"
     },
     "output_type": "display_data"
    }
   ],
   "source": [
    "labels = ['purchases', 'without_purchase']\n",
    "values = [purchases, without_pur]\n",
    "\n",
    "x = np.arange(len(labels))\n",
    "width = 0.2\n",
    "\n",
    "fig, ax = plt.subplots(figsize=(10,6))\n",
    "rects = ax.bar(x, values, width)\n",
    "\n",
    "ax.set_ylabel('Amount')\n",
    "ax.set_title('How many sessions ended with or without purchase')\n",
    "ax.set_xticks(x)\n",
    "ax.set_xticklabels(labels)\n",
    "\n",
    "def autolabel(rects):\n",
    "    \"\"\"Attach a text label above each bar in *rects*, displaying its height.\"\"\"\n",
    "    for rect in rects:\n",
    "        height = rect.get_height()\n",
    "        ax.annotate('{}'.format(height),\n",
    "                    xy=(rect.get_x() + rect.get_width() / 2, height),\n",
    "                    xytext=(0, 0),  \n",
    "                    textcoords=\"offset points\",\n",
    "                    ha='center', va='bottom')\n",
    "\n",
    "autolabel(rects)\n",
    "\n",
    "fig.tight_layout()\n",
    "\n",
    "plt.show()"
   ]
  },
  {
   "cell_type": "markdown",
   "id": "coupled-woman",
   "metadata": {},
   "source": [
    "# Zakupy w trakcie tygodnia vs w weekend"
   ]
  },
  {
   "cell_type": "code",
   "execution_count": 6,
   "id": "commercial-racing",
   "metadata": {},
   "outputs": [
    {
     "data": {
      "image/png": "[encoded data removed]",
      "text/plain": [
       "<Figure size 720x432 with 1 Axes>"
      ]
     },
     "metadata": {
      "needs_background": "light"
     },
     "output_type": "display_data"
    }
   ],
   "source": [
    "labels = ['weekend', 'week']\n",
    "values = [weekend, week]\n",
    "\n",
    "x = np.arange(len(labels))\n",
    "width = 0.2\n",
    "\n",
    "fig, ax = plt.subplots(figsize=(10,6))\n",
    "rects = ax.bar(x, values, width)\n",
    "\n",
    "ax.set_ylabel('Amount')\n",
    "ax.set_title('How many sessions ended with purchase during week vs weekend')\n",
    "ax.set_xticks(x)\n",
    "ax.set_xticklabels(labels)\n",
    "\n",
    "autolabel(rects)\n",
    "\n",
    "fig.tight_layout()\n",
    "\n",
    "plt.show()"
   ]
  },
  {
   "cell_type": "markdown",
   "id": "exempt-stone",
   "metadata": {},
   "source": [
    "# Średnia zakupów w trakcie dni roboczy vs w trakcie weekendu"
   ]
  },
  {
   "cell_type": "code",
   "execution_count": 7,
   "id": "swedish-interval",
   "metadata": {},
   "outputs": [
    {
     "data": {
      "image/png": "[encoded data removed]",
      "text/plain": [
       "<Figure size 720x432 with 1 Axes>"
      ]
     },
     "metadata": {
      "needs_background": "light"
     },
     "output_type": "display_data"
    }
   ],
   "source": [
    "labels = ['weekend day', 'weekday']\n",
    "values = [weekend/2, week/5]\n",
    "\n",
    "x = np.arange(len(labels))\n",
    "width = 0.2\n",
    "\n",
    "fig, ax = plt.subplots(figsize=(10,6))\n",
    "rects = ax.bar(x, values, width)\n",
    "\n",
    "ax.set_ylabel('Amount')\n",
    "ax.set_title('Average number of purchases during weekday and weekend')\n",
    "ax.set_xticks(x)\n",
    "ax.set_xticklabels(labels)\n",
    "\n",
    "autolabel(rects)\n",
    "\n",
    "fig.tight_layout()\n",
    "\n",
    "plt.show()"
   ]
  },
  {
   "cell_type": "markdown",
   "id": "direct-induction",
   "metadata": {},
   "source": [
    "# Czy oferowana zniżka wpływała na dokonanie zakupu?"
   ]
  },
  {
   "cell_type": "code",
   "execution_count": 8,
   "id": "processed-decline",
   "metadata": {},
   "outputs": [],
   "source": [
    "purchases_discount = 0\n",
    "purchases_without_d = 0\n",
    "without_pur_discount = 0\n",
    "without_pur_without_d = 0\n",
    "current_id = 0\n",
    "for i in range(sessions.shape[0]):\n",
    "    if(sessions.iloc[i]['session_id'] != current_id):\n",
    "        current_id = sessions.iloc[i]['session_id']\n",
    "        if(sessions.iloc[i]['purchase']):\n",
    "            if(sessions.iloc[i]['offered_discount']):\n",
    "                purchases_discount += 1\n",
    "            else:\n",
    "                purchases_without_d += 1\n",
    "        else:\n",
    "            if(sessions.iloc[i]['offered_discount']):\n",
    "                without_pur_discount += 1\n",
    "            else:\n",
    "                without_pur_without_d += 1\n",
    "                \n",
    "if(sessions.iloc[i]['purchase']):\n",
    "    if(sessions.iloc[i]['offered_discount']):\n",
    "        purchases_discount += 1\n",
    "    else:\n",
    "        purchases_without_d += 1\n",
    "else:\n",
    "    if(sessions.iloc[i]['offered_discount']):\n",
    "        without_pur_discount += 1\n",
    "    else:\n",
    "        without_pur_without_d += 1\n",
    "\n",
    "                "
   ]
  },
  {
   "cell_type": "code",
   "execution_count": 9,
   "id": "official-paraguay",
   "metadata": {},
   "outputs": [
    {
     "data": {
      "image/png": "[encoded data removed]",
      "text/plain": [
       "<Figure size 720x432 with 1 Axes>"
      ]
     },
     "metadata": {
      "needs_background": "light"
     },
     "output_type": "display_data"
    }
   ],
   "source": [
    "labels = ['purchases', 'without_purchase']\n",
    "with_discount = [purchases_discount, without_pur_discount]\n",
    "without_discount = [purchases_without_d, without_pur_without_d]\n",
    "\n",
    "x = np.arange(len(labels))\n",
    "width = 0.2\n",
    "\n",
    "fig, ax = plt.subplots(figsize=(10,6))\n",
    "rects1 = ax.bar(x - width/2, with_discount, width, label='Discount')\n",
    "rects2 = ax.bar(x + width/2, without_discount, width, label='Without discount')\n",
    "                \n",
    "ax.set_ylabel('Amount')\n",
    "ax.set_title('Amount by purcheses and discount')\n",
    "ax.set_xticks(x)\n",
    "ax.set_xticklabels(labels)\n",
    "ax.legend()\n",
    "                \n",
    "autolabel(rects1)\n",
    "autolabel(rects2)\n",
    "\n",
    "fig.tight_layout()\n",
    "\n",
    "plt.show()"
   ]
  },
  {
   "cell_type": "markdown",
   "id": "confidential-recorder",
   "metadata": {},
   "source": [
    "# Jak wpływała wielkość oferowanej zniżki?"
   ]
  },
  {
   "cell_type": "code",
   "execution_count": 10,
   "id": "operating-resolution",
   "metadata": {},
   "outputs": [
    {
     "data": {
      "text/plain": [
       "array([ 0,  5, 10, 15, 20])"
      ]
     },
     "execution_count": 10,
     "metadata": {},
     "output_type": "execute_result"
    }
   ],
   "source": [
    "discounts = sessions['offered_discount'].unique()\n",
    "discounts.sort()\n",
    "discounts"
   ]
  },
  {
   "cell_type": "code",
   "execution_count": 11,
   "id": "ultimate-perception",
   "metadata": {},
   "outputs": [],
   "source": [
    "data = [[0,0], [0,0], [0,0], [0,0], [0,0]]\n",
    "current_id = 0\n",
    "for i in range(sessions.shape[0]):\n",
    "    if(sessions.iloc[i]['session_id'] != current_id):\n",
    "        current_id = sessions.iloc[i]['session_id']\n",
    "        if(sessions.iloc[i]['purchase']):\n",
    "            discount_index = sessions.iloc[i]['offered_discount']/5\n",
    "            data[int(discount_index)][0] += 1\n",
    "        else:\n",
    "            discount_index = sessions.iloc[i]['offered_discount']/5\n",
    "            data[int(discount_index)][1] += 1\n",
    "            \n",
    "if(sessions.iloc[i]['purchase']):\n",
    "    discount_index = sessions.iloc[i]['offered_discount']/5\n",
    "    data[int(discount_index)][0] += 1\n",
    "else:\n",
    "    discount_index = sessions.iloc[i]['offered_discount']/5\n",
    "    data[int(discount_index)][1] += 1\n"
   ]
  },
  {
   "cell_type": "code",
   "execution_count": 12,
   "id": "contrary-relation",
   "metadata": {},
   "outputs": [
    {
     "data": {
      "image/png": "[encoded data removed]",
      "text/plain": [
       "<Figure size 720x432 with 1 Axes>"
      ]
     },
     "metadata": {
      "needs_background": "light"
     },
     "output_type": "display_data"
    }
   ],
   "source": [
    "labels = ['0', '5', '10', '15', '20']\n",
    "purchases = [data[0][0], data[1][0], data[2][0], data[3][0], data[4][0]]\n",
    "without_purchases = [data[0][1], data[1][1], data[2][1], data[3][1], data[4][1]]\n",
    "\n",
    "x = np.arange(len(labels))\n",
    "width = 0.45\n",
    "\n",
    "fig, ax = plt.subplots(figsize=(10,6))\n",
    "rects1 = ax.bar(x - width/2, purchases, width, label='Purchases')\n",
    "rects2 = ax.bar(x + width/2, without_purchases, width, label='Without purchase')\n",
    "                \n",
    "ax.set_ylabel('Amount')\n",
    "ax.set_title('Amount by purcheses and discount')\n",
    "ax.set_xticks(x)\n",
    "ax.set_xticklabels(labels)\n",
    "ax.legend()\n",
    "                \n",
    "autolabel(rects1)\n",
    "autolabel(rects2)\n",
    "\n",
    "fig.tight_layout()\n",
    "\n",
    "plt.show()"
   ]
  },
  {
   "cell_type": "markdown",
   "id": "polyphonic-elder",
   "metadata": {},
   "source": [
    "# Długość sesji a zakup"
   ]
  },
  {
   "cell_type": "code",
   "execution_count": 13,
   "id": "double-norman",
   "metadata": {},
   "outputs": [],
   "source": [
    "current_id = 100001\n",
    "session_hour_pur = np.zeros(24)\n",
    "session_hour_without = np.zeros(24)\n",
    "current_duration = 0\n",
    "purchase = False\n",
    "data_set = []\n",
    "for i in range(sessions.shape[0]):\n",
    "    if(sessions.iloc[i]['session_id'] != current_id):\n",
    "        temp = [current_id, current_duration, purchase]\n",
    "        data_set.append(temp)\n",
    "        current_id = sessions.iloc[i]['session_id']\n",
    "        current_duration = sessions.iloc[i]['duration']\n",
    "        purchase = sessions.iloc[i]['purchase']\n",
    "        if(purchase):\n",
    "            session_hour_pur[int(sessions.iloc[i]['hour'])] += 1\n",
    "        else:\n",
    "            session_hour_without[int(sessions.iloc[i]['hour'])] += 1\n",
    "    else:\n",
    "        current_duration = sessions.iloc[i]['duration']\n",
    "        \n",
    "temp = [current_id, current_duration, purchase]\n",
    "data_set.append(temp)\n",
    "purchase = sessions.iloc[i]['purchase']\n",
    "if(purchase):\n",
    "    session_hour_pur[int(sessions.iloc[i]['hour'])] += 1\n",
    "else:\n",
    "    session_hour_without[int(sessions.iloc[i]['hour'])] += 1"
   ]
  },
  {
   "cell_type": "code",
   "execution_count": 14,
   "id": "transparent-iraqi",
   "metadata": {},
   "outputs": [],
   "source": [
    "purchases = []\n",
    "without_p = []\n",
    "\n",
    "for i in range(len(data_set)):\n",
    "    if(data_set[i][2]):\n",
    "        purchases.append(data_set[i][1])\n",
    "    else:\n",
    "        without_p.append(data_set[i][1])\n",
    "\n",
    "pur_time = np.array(purchases)\n",
    "without_pur_time = np.array(without_p)"
   ]
  },
  {
   "cell_type": "code",
   "execution_count": 15,
   "id": "amazing-birth",
   "metadata": {
    "scrolled": true
   },
   "outputs": [
    {
     "data": {
      "text/html": [
       "<div>\n",
       "<style scoped>\n",
       "    .dataframe tbody tr th:only-of-type {\n",
       "        vertical-align: middle;\n",
       "    }\n",
       "\n",
       "    .dataframe tbody tr th {\n",
       "        vertical-align: top;\n",
       "    }\n",
       "\n",
       "    .dataframe thead th {\n",
       "        text-align: right;\n",
       "    }\n",
       "</style>\n",
       "<table border=\"1\" class=\"dataframe\">\n",
       "  <thead>\n",
       "    <tr style=\"text-align: right;\">\n",
       "      <th></th>\n",
       "      <th>Average</th>\n",
       "      <th>Median</th>\n",
       "      <th>Min</th>\n",
       "      <th>Max</th>\n",
       "      <th>Variance</th>\n",
       "      <th>Standard deviation</th>\n",
       "      <th>Amount</th>\n",
       "    </tr>\n",
       "  </thead>\n",
       "  <tbody>\n",
       "    <tr>\n",
       "      <th>Purchases</th>\n",
       "      <td>469.188429</td>\n",
       "      <td>292.0</td>\n",
       "      <td>5.0</td>\n",
       "      <td>2158.0</td>\n",
       "      <td>177233.239705</td>\n",
       "      <td>420.990783</td>\n",
       "      <td>4978</td>\n",
       "    </tr>\n",
       "    <tr>\n",
       "      <th>Without Purchase</th>\n",
       "      <td>327.468836</td>\n",
       "      <td>141.0</td>\n",
       "      <td>0.0</td>\n",
       "      <td>2368.0</td>\n",
       "      <td>183099.826938</td>\n",
       "      <td>427.901656</td>\n",
       "      <td>5070</td>\n",
       "    </tr>\n",
       "  </tbody>\n",
       "</table>\n",
       "</div>"
      ],
      "text/plain": [
       "                     Average  Median  Min     Max       Variance  \\\n",
       "Purchases         469.188429   292.0  5.0  2158.0  177233.239705   \n",
       "Without Purchase  327.468836   141.0  0.0  2368.0  183099.826938   \n",
       "\n",
       "                  Standard deviation  Amount  \n",
       "Purchases                 420.990783    4978  \n",
       "Without Purchase          427.901656    5070  "
      ]
     },
     "execution_count": 15,
     "metadata": {},
     "output_type": "execute_result"
    }
   ],
   "source": [
    "df = pd.DataFrame({\"Average\" : [np.average(pur_time), np.average(without_pur_time)],\n",
    "                   \"Median\" : [np.median(pur_time), np.median(without_pur_time)],\n",
    "                   \"Min\" : [np.min(pur_time), np.min(without_pur_time)],\n",
    "                   \"Max\" : [np.max(pur_time), np.max(without_pur_time)],\n",
    "                   \"Variance\" : [np.var(pur_time), np.var(without_pur_time)],\n",
    "                   \"Standard deviation\" : [np.std(pur_time), np.std(without_pur_time)],\n",
    "                   \"Amount\" : [len(pur_time), len(without_pur_time)]})\n",
    "df = df.rename(index={0 : \"Purchases\", 1 : \"Without Purchase\"})\n",
    "df"
   ]
  },
  {
   "cell_type": "markdown",
   "id": "developed-parade",
   "metadata": {},
   "source": [
    "# Długość trwania sesji zakończonej zakupem"
   ]
  },
  {
   "cell_type": "code",
   "execution_count": 16,
   "id": "military-portsmouth",
   "metadata": {},
   "outputs": [],
   "source": [
    "purchase = np.zeros(22)\n",
    "for i in range(len(pur_time)):\n",
    "    purchase[int(pur_time[i]/100)] += 1"
   ]
  },
  {
   "cell_type": "code",
   "execution_count": 17,
   "id": "historical-basin",
   "metadata": {},
   "outputs": [
    {
     "data": {
      "image/png": "[encoded data removed]",
      "text/plain": [
       "<Figure size 720x432 with 1 Axes>"
      ]
     },
     "metadata": {
      "needs_background": "light"
     },
     "output_type": "display_data"
    }
   ],
   "source": [
    "labels = ['0', '1', '2', '3', '4', '5', '6', '7', '8', '9', '10', '11', '12', '13',\n",
    "          '14', '15', '16', '17', '18', '19', '20', '21']\n",
    "\n",
    "x = np.arange(len(labels))\n",
    "width = 0.35\n",
    "\n",
    "fig, ax = plt.subplots(figsize=(10,6))\n",
    "rects = ax.bar(x, purchase, width)\n",
    "\n",
    "ax.set_ylabel('Amount')\n",
    "ax.set_title('Time in witch purchase was made (x*100) [s]')\n",
    "ax.set_xticks(x)\n",
    "ax.set_xticklabels(labels)\n",
    "\n",
    "\n",
    "plt.show()"
   ]
  },
  {
   "cell_type": "markdown",
   "id": "described-insured",
   "metadata": {},
   "source": [
    "# Długość trwania sesji która nie zakończyła się zakupem"
   ]
  },
  {
   "cell_type": "code",
   "execution_count": 18,
   "id": "flying-assessment",
   "metadata": {},
   "outputs": [],
   "source": [
    "without = np.zeros(24)\n",
    "for i in range(len(without_pur_time)):\n",
    "    without[int(without_pur_time[i]/100)] += 1"
   ]
  },
  {
   "cell_type": "code",
   "execution_count": 19,
   "id": "comic-organizer",
   "metadata": {},
   "outputs": [
    {
     "data": {
      "image/png": "[encoded data removed]",
      "text/plain": [
       "<Figure size 720x432 with 1 Axes>"
      ]
     },
     "metadata": {
      "needs_background": "light"
     },
     "output_type": "display_data"
    }
   ],
   "source": [
    "labels = ['0', '1', '2', '3', '4', '5', '6', '7', '8', '9', '10', '11', '12', '13',\n",
    "          '14', '15', '16', '17', '18', '19', '20', '21', '22', '23']\n",
    "\n",
    "x = np.arange(len(labels))\n",
    "width = 0.45\n",
    "\n",
    "fig, ax = plt.subplots(figsize=(10,6))\n",
    "rects = ax.bar(x, without, width)\n",
    "\n",
    "ax.set_ylabel('Amount')\n",
    "ax.set_title('Time in witch purchase was made (x*100) [s]')\n",
    "ax.set_xticks(x)\n",
    "ax.set_xticklabels(labels)\n",
    "\n",
    "plt.show()"
   ]
  },
  {
   "cell_type": "markdown",
   "id": "unsigned-adoption",
   "metadata": {},
   "source": [
    "# Godzina rozpoczęcia sesji a dokanie zakupu"
   ]
  },
  {
   "cell_type": "code",
   "execution_count": 20,
   "id": "sorted-butler",
   "metadata": {},
   "outputs": [
    {
     "data": {
      "text/plain": [
       "array([ 0.,  1.,  2.,  3.,  4.,  5.,  6.,  7.,  8.,  9., 10., 11., 12.,\n",
       "       13., 14., 15., 16., 17., 18., 19., 20., 21., 22., 23.])"
      ]
     },
     "execution_count": 20,
     "metadata": {},
     "output_type": "execute_result"
    }
   ],
   "source": [
    "hours = sessions['hour'].unique()\n",
    "hours.sort()\n",
    "hours"
   ]
  },
  {
   "cell_type": "code",
   "execution_count": 21,
   "id": "institutional-idaho",
   "metadata": {},
   "outputs": [
    {
     "data": {
      "image/png": "[encoded data removed]",
      "text/plain": [
       "<Figure size 720x432 with 1 Axes>"
      ]
     },
     "metadata": {
      "needs_background": "light"
     },
     "output_type": "display_data"
    }
   ],
   "source": [
    "labels = ['0', '1', '2', '3', '4', '5', '6', '7', '8', '9', '10', '11', '12', '13', '14',\n",
    "          '15', '16', '17', '18', '19', '20', '21', '22', '23']\n",
    "\n",
    "x = np.arange(len(labels))\n",
    "width = 0.45\n",
    "\n",
    "fig, ax = plt.subplots(figsize=(10,6))\n",
    "rects1 = ax.bar(x, session_hour_pur, width, label='Purchases')\n",
    "\n",
    "ax.set_ylabel('Amount')\n",
    "ax.set_title('Amount of purchases by the start hour of session')\n",
    "ax.set_xticks(x)\n",
    "ax.set_xticklabels(labels)\n",
    "ax.legend()\n",
    "\n",
    "autolabel(rects1)\n",
    "\n",
    "fig.tight_layout()\n",
    "\n",
    "plt.show()"
   ]
  },
  {
   "cell_type": "markdown",
   "id": "formal-collaboration",
   "metadata": {},
   "source": [
    "# Godzina rozpoczęcia sesji a brak zakupu"
   ]
  },
  {
   "cell_type": "code",
   "execution_count": 22,
   "id": "violent-memory",
   "metadata": {},
   "outputs": [
    {
     "data": {
      "image/png": "[encoded data removed]",
      "text/plain": [
       "<Figure size 720x432 with 1 Axes>"
      ]
     },
     "metadata": {
      "needs_background": "light"
     },
     "output_type": "display_data"
    }
   ],
   "source": [
    "labels = ['0', '1', '2', '3', '4', '5', '6', '7', '8', '9', '10', '11', '12', '13', '14',\n",
    "          '15', '16', '17', '18', '19', '20', '21', '22', '23']\n",
    "\n",
    "x = np.arange(len(labels))\n",
    "width = 0.45\n",
    "\n",
    "fig, ax = plt.subplots(figsize=(10,6))\n",
    "rects1 = ax.bar(x, session_hour_without, width, label='Without purchase')\n",
    "\n",
    "ax.set_ylabel('Amount')\n",
    "ax.set_title('Amount by purcheses and discount')\n",
    "ax.set_xticks(x)\n",
    "ax.set_xticklabels(labels)\n",
    "ax.legend()\n",
    "\n",
    "autolabel(rects1)\n",
    "\n",
    "fig.tight_layout()\n",
    "\n",
    "plt.show()    "
   ]
  },
  {
   "cell_type": "markdown",
   "id": "growing-ranch",
   "metadata": {},
   "source": [
    "# Różnica między ilością sesji zakończonych zakupem a tych bez zakupu w zalezności od godziny rozpoczęcia sesji"
   ]
  },
  {
   "cell_type": "code",
   "execution_count": 23,
   "id": "alike-shape",
   "metadata": {},
   "outputs": [],
   "source": [
    "difference = []\n",
    "for i in range(len(session_hour_pur)):\n",
    "    difference.append(session_hour_pur[i] - session_hour_without[i])"
   ]
  },
  {
   "cell_type": "code",
   "execution_count": 24,
   "id": "ranging-genome",
   "metadata": {},
   "outputs": [
    {
     "data": {
      "image/png": "[encoded data removed]",
      "text/plain": [
       "<Figure size 720x432 with 1 Axes>"
      ]
     },
     "metadata": {
      "needs_background": "light"
     },
     "output_type": "display_data"
    }
   ],
   "source": [
    "labels = ['0', '1', '2', '3', '4', '5', '6', '7', '8', '9', '10', '11', '12', '13', '14',\n",
    "          '15', '16', '17', '18', '19', '20', '21', '22', '23']\n",
    "\n",
    "x = np.arange(len(labels))\n",
    "width = 0.45\n",
    "\n",
    "fig, ax = plt.subplots(figsize=(10,6))\n",
    "rects1 = ax.bar(x, difference, width, label='Difference')\n",
    "\n",
    "ax.set_ylabel('Amount')\n",
    "ax.set_title('Difference between number of sessions by hour')\n",
    "ax.set_xticks(x)\n",
    "ax.set_xticklabels(labels)\n",
    "ax.legend()\n",
    "\n",
    "autolabel(rects1)\n",
    "\n",
    "fig.tight_layout()\n",
    "\n",
    "plt.show()    "
   ]
  },
  {
   "cell_type": "markdown",
   "id": "devoted-chamber",
   "metadata": {},
   "source": [
    "# Ilość przeglądanych produktów a dokonanie zakupu"
   ]
  },
  {
   "cell_type": "code",
   "execution_count": 25,
   "id": "adjusted-midnight",
   "metadata": {},
   "outputs": [],
   "source": [
    "max_items = 0\n",
    "max_categories = 0\n",
    "current_session = 100001 \n",
    "items_shown = []\n",
    "items_shown_w = []\n",
    "categories_shown = []\n",
    "categories_shown_w = []\n",
    "\n",
    "for i in range(sessions.shape[0]):\n",
    "    if(sessions.iloc[i]['session_id'] != current_session):\n",
    "        if(sessions.iloc[i]['purchase']):\n",
    "            items_shown.append(max_items)\n",
    "            categories_shown.append(max_categories)\n",
    "        else:\n",
    "            items_shown_w.append(max_items)\n",
    "            categories_shown_w.append(max_categories)\n",
    "        current_session = sessions.iloc[i]['session_id']\n",
    "    max_items = sessions.iloc[i]['unique_item_views']\n",
    "    max_categories = sessions.iloc[i]['unique_categories']\n",
    "    \n",
    "if(sessions.iloc[i]['purchase']):\n",
    "    items_shown.append(max_items)\n",
    "    categories_shown.append(max_categories)\n",
    "else:\n",
    "    items_shown_w.append(max_items)\n",
    "    categories_shown_w.append(max_categories)"
   ]
  },
  {
   "cell_type": "code",
   "execution_count": 26,
   "id": "suspended-count",
   "metadata": {},
   "outputs": [],
   "source": [
    "unique, counts = np.unique(np.array(items_shown), return_counts = True)\n",
    "unique_w, counts_w = np.unique(np.array(items_shown_w), return_counts = True)"
   ]
  },
  {
   "cell_type": "code",
   "execution_count": 27,
   "id": "contemporary-orleans",
   "metadata": {},
   "outputs": [
    {
     "data": {
      "image/png": "[encoded data removed]",
      "text/plain": [
       "<Figure size 720x432 with 1 Axes>"
      ]
     },
     "metadata": {
      "needs_background": "light"
     },
     "output_type": "display_data"
    }
   ],
   "source": [
    "x = np.arange(len(unique))\n",
    "width = 0.45\n",
    "\n",
    "fig, ax = plt.subplots(figsize=(10,6))\n",
    "rects1 = ax.bar(x - width/2, counts, width, label='Purchases')\n",
    "rects2 = ax.bar(x + width/2, counts_w, width, label='Without purchase')\n",
    "                \n",
    "ax.set_ylabel('Amount')\n",
    "ax.set_title('Amount of shown items by purcheses')\n",
    "ax.set_xticks(x)\n",
    "ax.set_xticklabels(unique)\n",
    "ax.legend()\n",
    "                \n",
    "autolabel(rects1)\n",
    "autolabel(rects2)\n",
    "\n",
    "fig.tight_layout()\n",
    "\n",
    "plt.show()"
   ]
  },
  {
   "cell_type": "markdown",
   "id": "disabled-aircraft",
   "metadata": {},
   "source": [
    "# Ilość przeglądanych kategorii a zakup"
   ]
  },
  {
   "cell_type": "code",
   "execution_count": 28,
   "id": "sudden-colleague",
   "metadata": {},
   "outputs": [],
   "source": [
    "unique, counts = np.unique(np.array(categories_shown), return_counts = True)\n",
    "unique_w, counts_w = np.unique(np.array(categories_shown_w), return_counts = True)"
   ]
  },
  {
   "cell_type": "code",
   "execution_count": 29,
   "id": "encouraging-paris",
   "metadata": {},
   "outputs": [
    {
     "data": {
      "image/png": "[encoded data removed]",
      "text/plain": [
       "<Figure size 720x432 with 1 Axes>"
      ]
     },
     "metadata": {
      "needs_background": "light"
     },
     "output_type": "display_data"
    }
   ],
   "source": [
    "x = np.arange(len(unique))\n",
    "width = 0.45\n",
    "\n",
    "fig, ax = plt.subplots(figsize=(10,6))\n",
    "rects1 = ax.bar(x - width/2, counts, width, label='Purchases')\n",
    "rects2 = ax.bar(x + width/2, counts_w, width, label='Without purchase')\n",
    "                \n",
    "ax.set_ylabel('Amount')\n",
    "ax.set_title('Amount of shown categories by purcheses')\n",
    "ax.set_xticks(x)\n",
    "ax.set_xticklabels(unique)\n",
    "ax.legend()\n",
    "                \n",
    "autolabel(rects1)\n",
    "autolabel(rects2)\n",
    "\n",
    "fig.tight_layout()\n",
    "\n",
    "plt.show()"
   ]
  },
  {
   "cell_type": "markdown",
   "id": "heavy-desperate",
   "metadata": {},
   "source": [
    "# Click rate a zakup"
   ]
  },
  {
   "cell_type": "code",
   "execution_count": 30,
   "id": "revised-boston",
   "metadata": {},
   "outputs": [],
   "source": [
    "click_rate = 0\n",
    "current_session = 100001 \n",
    "click_rate_p = []\n",
    "click_rate_w = []\n",
    "\n",
    "for i in range(sessions.shape[0]):\n",
    "    if(sessions.iloc[i]['session_id'] != current_session):\n",
    "        if(sessions.iloc[i]['purchase']):\n",
    "            click_rate_p.append(click_rate)\n",
    "        else:\n",
    "            click_rate_w.append(click_rate)\n",
    "        current_session = sessions.iloc[i]['session_id']\n",
    "    click_rate = sessions.iloc[i]['click_rate']\n",
    "\n",
    "if(sessions.iloc[i]['purchase']):\n",
    "    click_rate_p.append(click_rate)\n",
    "else:\n",
    "    click_rate_w.append(click_rate)"
   ]
  },
  {
   "cell_type": "code",
   "execution_count": 31,
   "id": "engaged-disaster",
   "metadata": {},
   "outputs": [
    {
     "data": {
      "text/html": [
       "<div>\n",
       "<style scoped>\n",
       "    .dataframe tbody tr th:only-of-type {\n",
       "        vertical-align: middle;\n",
       "    }\n",
       "\n",
       "    .dataframe tbody tr th {\n",
       "        vertical-align: top;\n",
       "    }\n",
       "\n",
       "    .dataframe thead th {\n",
       "        text-align: right;\n",
       "    }\n",
       "</style>\n",
       "<table border=\"1\" class=\"dataframe\">\n",
       "  <thead>\n",
       "    <tr style=\"text-align: right;\">\n",
       "      <th></th>\n",
       "      <th>Average</th>\n",
       "      <th>Median</th>\n",
       "      <th>Min</th>\n",
       "      <th>Max</th>\n",
       "      <th>Variance</th>\n",
       "      <th>Standard deviation</th>\n",
       "      <th>Amount</th>\n",
       "    </tr>\n",
       "  </thead>\n",
       "  <tbody>\n",
       "    <tr>\n",
       "      <th>Purchases</th>\n",
       "      <td>0.817685</td>\n",
       "      <td>0.490402</td>\n",
       "      <td>0.0</td>\n",
       "      <td>24.0</td>\n",
       "      <td>3.093602</td>\n",
       "      <td>1.758864</td>\n",
       "      <td>4978</td>\n",
       "    </tr>\n",
       "    <tr>\n",
       "      <th>Without Purchase</th>\n",
       "      <td>0.811828</td>\n",
       "      <td>0.483871</td>\n",
       "      <td>0.0</td>\n",
       "      <td>24.0</td>\n",
       "      <td>3.083380</td>\n",
       "      <td>1.755955</td>\n",
       "      <td>5070</td>\n",
       "    </tr>\n",
       "  </tbody>\n",
       "</table>\n",
       "</div>"
      ],
      "text/plain": [
       "                   Average    Median  Min   Max  Variance  Standard deviation  \\\n",
       "Purchases         0.817685  0.490402  0.0  24.0  3.093602            1.758864   \n",
       "Without Purchase  0.811828  0.483871  0.0  24.0  3.083380            1.755955   \n",
       "\n",
       "                  Amount  \n",
       "Purchases           4978  \n",
       "Without Purchase    5070  "
      ]
     },
     "execution_count": 31,
     "metadata": {},
     "output_type": "execute_result"
    }
   ],
   "source": [
    "df = pd.DataFrame({\"Average\" : [np.average(click_rate_p), np.average(click_rate_w)],\n",
    "                   \"Median\" : [np.median(click_rate_p), np.median(click_rate_w)],\n",
    "                   \"Min\" : [np.min(click_rate_p), np.min(click_rate_w)],\n",
    "                   \"Max\" : [np.max(click_rate_p), np.max(click_rate_w)],\n",
    "                   \"Variance\" : [np.var(click_rate_p), np.var(click_rate_w)],\n",
    "                   \"Standard deviation\" : [np.std(click_rate_p), np.std(click_rate_w)],\n",
    "                   \"Amount\" : [len(click_rate_p), len(click_rate_w)]})\n",
    "df = df.rename(index={0 : \"Purchases\", 1 : \"Without Purchase\"})\n",
    "df"
   ]
  },
  {
   "cell_type": "code",
   "execution_count": null,
   "id": "animated-telescope",
   "metadata": {},
   "outputs": [],
   "source": []
  }
 ],
 "metadata": {
  "kernelspec": {
   "display_name": "Python 3",
   "language": "python",
   "name": "python3"
  },
  "language_info": {
   "codemirror_mode": {
    "name": "ipython",
    "version": 3
   },
   "file_extension": ".py",
   "mimetype": "text/x-python",
   "name": "python",
   "nbconvert_exporter": "python",
   "pygments_lexer": "ipython3",
   "version": "3.7.5"
  }
 },
 "nbformat": 4,
 "nbformat_minor": 5
}
