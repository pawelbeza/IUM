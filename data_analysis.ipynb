{
 "cells": [
  {
   "cell_type": "markdown",
   "id": "transsexual-operations",
   "metadata": {},
   "source": [
    "# Wstępna analiza IUM\n",
    "Paweł Bęza <br>\n",
    "Artur Mazur"
   ]
  },
  {
   "cell_type": "code",
   "execution_count": 1,
   "id": "massive-melbourne",
   "metadata": {},
   "outputs": [],
   "source": [
    "import matplotlib.pyplot as plt\n",
    "import numpy as np\n",
    "import pandas as pd\n",
    "import calendar\n",
    "\n",
    "%load_ext autoreload\n",
    "%autoreload 2"
   ]
  },
  {
   "cell_type": "markdown",
   "id": "hungry-heaven",
   "metadata": {},
   "source": [
    "## Problem biznesowy\n",
    "<blockquote>\n",
    "Chcemy przewidzieć czy dana sesja użytkownika zakończy się zakupem na podstawie danych sesji.\n",
    "Skuteczna klasyfikacja sesji, które zakończą się zakupem umożliwi konsultantom szybsze rozwiązywanie problemów\n",
    "</blockquote>\n",
    "\n",
    "## Zadanie modelowania\n",
    "Zadaniem jest klasyfikacja binarna odpowiadająca na pytanie \"Czy sesja użytkownika zakończy się zakupem?\".\n",
    "Do dyspozycji mamy historyczne dane składające się z:\n",
    "* bazy użytkowników\n",
    "* katalogu produktów\n",
    "* historia sesji\n",
    "* dane dotyczące wysyłki zakupionych produktów\n",
    "\n",
    "## Analiza zbioru danych\n",
    "Najpierw zastanowilismy się, do których informacji mamy dostęp w trakcie trwania sesji.\n",
    "\n",
    "Zauważyliśmy, że dane dotyczące wysyłki są dostępne dopiero po dokonaniu zakupu, dlatego z tej informacji nie będziemy mogli skorzystać.\n",
    "Informacje zawarte w pozostałych tabelach są dostępne w trakcie trwania sesji, więc przeszliśmy do bardziej szczegółowej analizy tego fragmentu danych.\n",
    "\n",
    "Postanowiliśmy wyróżnić ze zbioru danych następujące informacje:\n",
    "* *user_id* - identyfikator użytkownika\n",
    "* [*purchase*](#purchase) - wartość boolowska odpowiadająca na pytanie czy sesja zakończyła się zakupem\n",
    "* [*weekend*](#weekend) - wartość boolowska odpowiadająca na pytanie czy sesja trwa w weekend\n",
    "* *month*, [*weekday*](#weekday), *day*, [*hour*](#hour) - miesiąc, dzień tygodnia, dzień miesiąca, godzina\n",
    "* [*offered_discount*](#discount) - wysokość zniżki\n",
    "* [*duration*](#duration) - długość trwania sesji w sekundach\n",
    "* [*click_rate*](#click_rate) - liczba zdarzeń(event'ów) do aktualnego rekordu na minutę\n",
    "* *item_views* - liczba obejrzanych przedmiotów\n",
    "* [*unique_item_views*](#unique_item_views) - liczba przejrzanych unikalnych przedmiotów\n",
    "* [*unique_categories*](#unique_categories) - liczba przejrzanych unikalnych kategorii\n",
    "\n",
    "Powyższe informacje zapisaliśmy w pliku *merged_dataset*"
   ]
  },
  {
   "cell_type": "markdown",
   "id": "defined-patio",
   "metadata": {},
   "source": [
    "### Przykładowe rekordy zawierające powyższe informacje"
   ]
  },
  {
   "cell_type": "code",
   "execution_count": 2,
   "id": "colonial-platinum",
   "metadata": {},
   "outputs": [
    {
     "data": {
      "text/html": [
       "<div>\n",
       "<style scoped>\n",
       "    .dataframe tbody tr th:only-of-type {\n",
       "        vertical-align: middle;\n",
       "    }\n",
       "\n",
       "    .dataframe tbody tr th {\n",
       "        vertical-align: top;\n",
       "    }\n",
       "\n",
       "    .dataframe thead th {\n",
       "        text-align: right;\n",
       "    }\n",
       "</style>\n",
       "<table border=\"1\" class=\"dataframe\">\n",
       "  <thead>\n",
       "    <tr style=\"text-align: right;\">\n",
       "      <th></th>\n",
       "      <th>Unnamed: 0</th>\n",
       "      <th>session_id</th>\n",
       "      <th>user_id</th>\n",
       "      <th>offered_discount</th>\n",
       "      <th>duration</th>\n",
       "      <th>weekend</th>\n",
       "      <th>month</th>\n",
       "      <th>weekday</th>\n",
       "      <th>day</th>\n",
       "      <th>hour</th>\n",
       "      <th>unique_item_views</th>\n",
       "      <th>item_views</th>\n",
       "      <th>click_rate</th>\n",
       "      <th>unique_categories</th>\n",
       "      <th>purchase</th>\n",
       "    </tr>\n",
       "  </thead>\n",
       "  <tbody>\n",
       "    <tr>\n",
       "      <th>0</th>\n",
       "      <td>0</td>\n",
       "      <td>100001</td>\n",
       "      <td>102.0</td>\n",
       "      <td>20</td>\n",
       "      <td>0.0</td>\n",
       "      <td>False</td>\n",
       "      <td>January</td>\n",
       "      <td>1.0</td>\n",
       "      <td>26.0</td>\n",
       "      <td>14.0</td>\n",
       "      <td>1.0</td>\n",
       "      <td>1.0</td>\n",
       "      <td>0.000000</td>\n",
       "      <td>1.0</td>\n",
       "      <td>True</td>\n",
       "    </tr>\n",
       "    <tr>\n",
       "      <th>1</th>\n",
       "      <td>1</td>\n",
       "      <td>100001</td>\n",
       "      <td>102.0</td>\n",
       "      <td>20</td>\n",
       "      <td>88.0</td>\n",
       "      <td>False</td>\n",
       "      <td>January</td>\n",
       "      <td>1.0</td>\n",
       "      <td>26.0</td>\n",
       "      <td>14.0</td>\n",
       "      <td>2.0</td>\n",
       "      <td>2.0</td>\n",
       "      <td>1.363636</td>\n",
       "      <td>2.0</td>\n",
       "      <td>True</td>\n",
       "    </tr>\n",
       "    <tr>\n",
       "      <th>2</th>\n",
       "      <td>2</td>\n",
       "      <td>100001</td>\n",
       "      <td>102.0</td>\n",
       "      <td>20</td>\n",
       "      <td>180.0</td>\n",
       "      <td>False</td>\n",
       "      <td>January</td>\n",
       "      <td>1.0</td>\n",
       "      <td>26.0</td>\n",
       "      <td>14.0</td>\n",
       "      <td>3.0</td>\n",
       "      <td>3.0</td>\n",
       "      <td>1.000000</td>\n",
       "      <td>2.0</td>\n",
       "      <td>True</td>\n",
       "    </tr>\n",
       "    <tr>\n",
       "      <th>3</th>\n",
       "      <td>3</td>\n",
       "      <td>100001</td>\n",
       "      <td>102.0</td>\n",
       "      <td>20</td>\n",
       "      <td>185.0</td>\n",
       "      <td>False</td>\n",
       "      <td>January</td>\n",
       "      <td>1.0</td>\n",
       "      <td>26.0</td>\n",
       "      <td>14.0</td>\n",
       "      <td>4.0</td>\n",
       "      <td>4.0</td>\n",
       "      <td>1.297297</td>\n",
       "      <td>2.0</td>\n",
       "      <td>True</td>\n",
       "    </tr>\n",
       "    <tr>\n",
       "      <th>4</th>\n",
       "      <td>4</td>\n",
       "      <td>100001</td>\n",
       "      <td>102.0</td>\n",
       "      <td>20</td>\n",
       "      <td>471.0</td>\n",
       "      <td>False</td>\n",
       "      <td>January</td>\n",
       "      <td>1.0</td>\n",
       "      <td>26.0</td>\n",
       "      <td>14.0</td>\n",
       "      <td>5.0</td>\n",
       "      <td>5.0</td>\n",
       "      <td>0.636943</td>\n",
       "      <td>2.0</td>\n",
       "      <td>True</td>\n",
       "    </tr>\n",
       "  </tbody>\n",
       "</table>\n",
       "</div>"
      ],
      "text/plain": [
       "   Unnamed: 0  session_id  user_id  offered_discount  duration  weekend  \\\n",
       "0           0      100001    102.0                20       0.0    False   \n",
       "1           1      100001    102.0                20      88.0    False   \n",
       "2           2      100001    102.0                20     180.0    False   \n",
       "3           3      100001    102.0                20     185.0    False   \n",
       "4           4      100001    102.0                20     471.0    False   \n",
       "\n",
       "     month  weekday   day  hour  unique_item_views  item_views  click_rate  \\\n",
       "0  January      1.0  26.0  14.0                1.0         1.0    0.000000   \n",
       "1  January      1.0  26.0  14.0                2.0         2.0    1.363636   \n",
       "2  January      1.0  26.0  14.0                3.0         3.0    1.000000   \n",
       "3  January      1.0  26.0  14.0                4.0         4.0    1.297297   \n",
       "4  January      1.0  26.0  14.0                5.0         5.0    0.636943   \n",
       "\n",
       "   unique_categories  purchase  \n",
       "0                1.0      True  \n",
       "1                2.0      True  \n",
       "2                2.0      True  \n",
       "3                2.0      True  \n",
       "4                2.0      True  "
      ]
     },
     "execution_count": 2,
     "metadata": {},
     "output_type": "execute_result"
    }
   ],
   "source": [
    "sessions = pd.read_csv(\"merged_dataset\", sep=' ')\n",
    "sessions.head()"
   ]
  },
  {
   "cell_type": "code",
   "execution_count": 3,
   "id": "bottom-emphasis",
   "metadata": {},
   "outputs": [],
   "source": [
    "current_id = 0\n",
    "day_buying_sessions = np.zeros(7)\n",
    "day_sessions = np.zeros(7)\n",
    "for i in range(sessions.shape[0]):\n",
    "    if(sessions.iloc[i]['session_id'] != current_id):\n",
    "        session = sessions.iloc[i]\n",
    "        current_id = session['session_id']\n",
    "        day_sessions[int(session['weekday'])] += 1\n",
    "        \n",
    "        if(session['purchase']):\n",
    "            day_buying_sessions[int(session['weekday'])] += 1"
   ]
  },
  {
   "cell_type": "code",
   "execution_count": 4,
   "id": "shared-keeping",
   "metadata": {},
   "outputs": [],
   "source": [
    "def autolabel(rects, ax):\n",
    "    \"\"\"Attach a text label above each bar in *rects*, displaying its height.\"\"\"\n",
    "    for rect in rects:\n",
    "        height = rect.get_height()\n",
    "        ax.annotate('{}'.format(height),\n",
    "                    xy=(rect.get_x() + rect.get_width() / 2, height),\n",
    "                    xytext=(0, 0),  \n",
    "                    textcoords=\"offset points\",\n",
    "                    ha='center', va='bottom')"
   ]
  },
  {
   "cell_type": "markdown",
   "id": "treated-purchase",
   "metadata": {},
   "source": [
    "### Ile sesji zakończyło się zakupem? <a name=\"purchase\"></a>\n",
    "Liczba sesji w obu klasach jest porównywalna dlatego można powiedzieć, że mamy styczność z danymi zbalansowanymi."
   ]
  },
  {
   "cell_type": "code",
   "execution_count": 5,
   "id": "variable-society",
   "metadata": {},
   "outputs": [
    {
     "data": {
      "image/png": "[encoded data removed]",
      "text/plain": [
       "<Figure size 720x432 with 1 Axes>"
      ]
     },
     "metadata": {
      "needs_background": "light"
     },
     "output_type": "display_data"
    }
   ],
   "source": [
    "labels = ['purchases', 'without_purchase']\n",
    "\n",
    "buying_sessions = sum(day_buying_sessions)\n",
    "values = [buying_sessions, sum(day_sessions) - buying_sessions]\n",
    "\n",
    "x = np.arange(len(labels))\n",
    "width = 0.2\n",
    "\n",
    "fig, ax = plt.subplots(figsize=(10,6))\n",
    "rects = ax.bar(x, values, width)\n",
    "\n",
    "ax.set_ylabel('Number')\n",
    "ax.set_title('How many sessions ended with or without purchase')\n",
    "ax.set_xticks(x)\n",
    "ax.set_xticklabels(labels)\n",
    "\n",
    "autolabel(rects, ax)\n",
    "\n",
    "fig.tight_layout()\n",
    "\n",
    "plt.show()"
   ]
  },
  {
   "cell_type": "markdown",
   "id": "coupled-woman",
   "metadata": {},
   "source": [
    "### Weekend <a name=\"weekend\"></a>\n",
    "Analizując to czy sesja trwa w weekend chceiliśmy zweryfikować czy w weekend jest więcej sesji ogólem oraz w szczególności tych kupujących."
   ]
  },
  {
   "cell_type": "markdown",
   "id": "environmental-virtue",
   "metadata": {},
   "source": [
    "### Liczba sesji ogółem\n",
    "* w trakcie dni roboczych jest w sumie ~2.4 więcej sessji niż podczas weekendu\n",
    "* średnia dzienna liczba sesji w weekend jest o ~4.5% większa niż w dni robocze"
   ]
  },
  {
   "cell_type": "code",
   "execution_count": 6,
   "id": "artificial-contest",
   "metadata": {},
   "outputs": [
    {
     "data": {
      "image/png": "[encoded data removed]",
      "text/plain": [
       "<Figure size 1440x432 with 2 Axes>"
      ]
     },
     "metadata": {
      "needs_background": "light"
     },
     "output_type": "display_data"
    }
   ],
   "source": [
    "labels = ['weekend', 'weekday']\n",
    "\n",
    "x = np.arange(len(labels))\n",
    "width = 0.2\n",
    "\n",
    "fig, axs = plt.subplots(ncols=2, figsize=(20,6))\n",
    "\n",
    "values = [sum(day_sessions[5:]), sum(day_sessions[:5])]\n",
    "rects = axs[0].bar(x, values, width)\n",
    "\n",
    "axs[0].set_ylabel('Number')\n",
    "axs[0].set_title('How many sessions during weekend vs working day', fontsize=18)\n",
    "axs[0].set_xticks(x)\n",
    "axs[0].set_xticklabels(labels)\n",
    "\n",
    "autolabel(rects, axs[0])\n",
    "\n",
    "values_avg = [values[0] / 2, values[1] / 5]\n",
    "rects_avg = axs[1].bar(x, values_avg, width)\n",
    "\n",
    "axs[1].set_ylabel('Number')\n",
    "axs[1].set_title('Average number of sessions during weekend and working day', fontsize=18)\n",
    "axs[1].set_xticks(x)\n",
    "axs[1].set_xticklabels(labels)\n",
    "\n",
    "autolabel(rects_avg, axs[1])\n",
    "\n",
    "fig.tight_layout()\n",
    "\n",
    "plt.show()"
   ]
  },
  {
   "cell_type": "markdown",
   "id": "circular-visit",
   "metadata": {},
   "source": [
    "### Liczba sesji kupujących\n",
    "* w trakcie dni roboczych jest ~2.36 więcej sesji kupujących niż podczas weekendu\n",
    "* średnia liczba sesji kupujących w weekend jest o ~6% większa niż w trakcie dni roboczych"
   ]
  },
  {
   "cell_type": "code",
   "execution_count": 8,
   "id": "commercial-racing",
   "metadata": {},
   "outputs": [
    {
     "data": {
      "image/png": "[encoded data removed]",
      "text/plain": [
       "<Figure size 1440x432 with 2 Axes>"
      ]
     },
     "metadata": {
      "needs_background": "light"
     },
     "output_type": "display_data"
    }
   ],
   "source": [
    "labels = ['weekend', 'weekday']\n",
    "values = [sum(day_buying_sessions[5:]), sum(day_buying_sessions[:5])]\n",
    "\n",
    "x = np.arange(len(labels))\n",
    "width = 0.2\n",
    "\n",
    "fig, axs = plt.subplots(ncols=2, figsize=(20,6))\n",
    "rects = axs[0].bar(x, values, width)\n",
    "\n",
    "axs[0].set_ylabel('Number')\n",
    "axs[0].set_title('How many sessions ended with purchase during weekend vs working day', fontsize=18)\n",
    "axs[0].set_xticks(x)\n",
    "axs[0].set_xticklabels(labels)\n",
    "\n",
    "autolabel(rects, axs[0])\n",
    "\n",
    "values_avg = [values[0]/2, values[1]/5]\n",
    "rects_avg = axs[1].bar(x, values_avg, width)\n",
    "\n",
    "axs[1].set_ylabel('Number')\n",
    "axs[1].set_title('Average number of purchases during weekend and working day', fontsize=18)\n",
    "axs[1].set_xticks(x)\n",
    "axs[1].set_xticklabels(labels)\n",
    "\n",
    "autolabel(rects_avg, axs[1])\n",
    "\n",
    "fig.tight_layout()\n",
    "\n",
    "plt.show()"
   ]
  },
  {
   "cell_type": "markdown",
   "id": "requested-physiology",
   "metadata": {},
   "source": [
    "### Weekday <a name=\"weekday\"></a>\n",
    "Analizując poszczególne tygodnia chcieliśmy sprawdzić w jaki dni tygodnia jest najwięcej sesji ogółem oraz kiedy jest najwięcej sesji kupujących\n",
    "\n",
    "* w piątek jest największa liczba sesji ogółem\n",
    "* w sobotę jest najwieksza liczba sesji kupujących\n",
    "* im bliżej weekendu tym większy \"ruch\" w sklepie"
   ]
  },
  {
   "cell_type": "code",
   "execution_count": 9,
   "id": "recent-toddler",
   "metadata": {},
   "outputs": [
    {
     "data": {
      "image/png": "[encoded data removed]",
      "text/plain": [
       "<Figure size 1440x432 with 1 Axes>"
      ]
     },
     "metadata": {
      "needs_background": "light"
     },
     "output_type": "display_data"
    }
   ],
   "source": [
    "labels = list(calendar.day_name)\n",
    "x = np.arange(len(labels))\n",
    "width = 0.2\n",
    "\n",
    "fig, ax = plt.subplots(figsize=(20,6))\n",
    "rects1 = ax.bar(x - width/2, day_sessions, width, label='total sessions')\n",
    "rects2 = ax.bar(x + width/2, day_buying_sessions, width, label='buying sessions')\n",
    "\n",
    "ax.set_ylabel('Number')\n",
    "ax.set_title('Total number of sessions vs buying sessions during week', fontsize=18)\n",
    "ax.set_xticks(x)\n",
    "ax.set_xticklabels(labels)\n",
    "\n",
    "autolabel(rects1, ax)\n",
    "autolabel(rects2, ax)\n",
    "fig.tight_layout()\n",
    "\n",
    "plt.show()"
   ]
  },
  {
   "cell_type": "code",
   "execution_count": 10,
   "id": "double-norman",
   "metadata": {},
   "outputs": [],
   "source": [
    "current_id = 100001\n",
    "session_hour_pur = np.zeros(24)\n",
    "session_hour_without = np.zeros(24)\n",
    "current_duration = 0\n",
    "purchase = False\n",
    "data_set = []\n",
    "for i in range(sessions.shape[0]):\n",
    "    if(sessions.iloc[i]['session_id'] != current_id):\n",
    "        temp = [current_id, current_duration, purchase]\n",
    "        data_set.append(temp)\n",
    "        current_id = sessions.iloc[i]['session_id']\n",
    "        current_duration = sessions.iloc[i]['duration']\n",
    "        purchase = sessions.iloc[i]['purchase']\n",
    "        if(purchase):\n",
    "            session_hour_pur[int(sessions.iloc[i]['hour'])] += 1\n",
    "        else:\n",
    "            session_hour_without[int(sessions.iloc[i]['hour'])] += 1\n",
    "    else:\n",
    "        current_duration = sessions.iloc[i]['duration']\n",
    "        \n",
    "temp = [current_id, current_duration, purchase]\n",
    "data_set.append(temp)"
   ]
  },
  {
   "cell_type": "markdown",
   "id": "unsigned-adoption",
   "metadata": {},
   "source": [
    "### Hour  <a name=\"hour\"></a>\n",
    "Analizując godzinę rozpoczęcia sesji chcieliśmy sprawdzić kiedy klienci mają najwiekszą tendencję do zakupów\n",
    "* najwięcej sesji kupujących jest w okolicach 6:00, 13:00 oraz 18:00"
   ]
  },
  {
   "cell_type": "code",
   "execution_count": 11,
   "id": "sorted-butler",
   "metadata": {},
   "outputs": [
    {
     "data": {
      "text/plain": [
       "array([ 0.,  1.,  2.,  3.,  4.,  5.,  6.,  7.,  8.,  9., 10., 11., 12.,\n",
       "       13., 14., 15., 16., 17., 18., 19., 20., 21., 22., 23.])"
      ]
     },
     "execution_count": 11,
     "metadata": {},
     "output_type": "execute_result"
    }
   ],
   "source": [
    "hours = sessions['hour'].unique()\n",
    "hours.sort()\n",
    "hours"
   ]
  },
  {
   "cell_type": "code",
   "execution_count": 12,
   "id": "institutional-idaho",
   "metadata": {},
   "outputs": [
    {
     "data": {
      "image/png": "[encoded data removed]",
      "text/plain": [
       "<Figure size 1440x504 with 2 Axes>"
      ]
     },
     "metadata": {
      "needs_background": "light"
     },
     "output_type": "display_data"
    }
   ],
   "source": [
    "labels = ['0', '1', '2', '3', '4', '5', '6', '7', '8', '9', '10', '11', '12', '13', '14',\n",
    "          '15', '16', '17', '18', '19', '20', '21', '22', '23']\n",
    "\n",
    "x = np.arange(len(labels))\n",
    "width = 0.45\n",
    "\n",
    "fig, axs = plt.subplots(ncols=2, figsize=(20,7))\n",
    "\n",
    "rects1 = axs[0].bar(x, session_hour_pur, width, label='Purchases')\n",
    "\n",
    "axs[0].set_ylabel('Number')\n",
    "axs[0].set_title('Number of buying sessions by the start hour of session', fontsize=18)\n",
    "axs[0].set_xticks(x)\n",
    "axs[0].set_xticklabels(labels)\n",
    "axs[0].legend()\n",
    "\n",
    "autolabel(rects1, axs[0])\n",
    "\n",
    "rects2 = axs[1].bar(x, session_hour_without, width, label='Without purchase')\n",
    "\n",
    "axs[1].set_ylabel('Number')\n",
    "axs[1].set_title('Number of non buying sessions by the start hour of session', fontsize=18)\n",
    "axs[1].set_xticks(x)\n",
    "axs[1].set_xticklabels(labels)\n",
    "axs[1].legend()\n",
    "\n",
    "autolabel(rects2, axs[1])\n",
    "\n",
    "fig.tight_layout()\n",
    "\n",
    "plt.show()"
   ]
  },
  {
   "cell_type": "code",
   "execution_count": 13,
   "id": "alike-shape",
   "metadata": {},
   "outputs": [],
   "source": [
    "difference = []\n",
    "for i in range(len(session_hour_pur)):\n",
    "    difference.append(session_hour_pur[i] - session_hour_without[i])"
   ]
  },
  {
   "cell_type": "code",
   "execution_count": 14,
   "id": "ranging-genome",
   "metadata": {},
   "outputs": [
    {
     "data": {
      "image/png": "[encoded data removed]",
      "text/plain": [
       "<Figure size 720x432 with 1 Axes>"
      ]
     },
     "metadata": {
      "needs_background": "light"
     },
     "output_type": "display_data"
    }
   ],
   "source": [
    "fig, ax = plt.subplots(figsize=(10,6))\n",
    "rects1 = ax.bar(x, difference, width, label='Difference')\n",
    "\n",
    "ax.set_ylabel('Number')\n",
    "ax.set_title('Difference between number of buying and non buying sessions by hour')\n",
    "ax.set_xticks(x)\n",
    "ax.set_xticklabels(labels)\n",
    "ax.legend()\n",
    "\n",
    "autolabel(rects1, ax)\n",
    "\n",
    "fig.tight_layout()\n",
    "\n",
    "plt.show()    "
   ]
  },
  {
   "cell_type": "code",
   "execution_count": null,
   "id": "processed-decline",
   "metadata": {},
   "outputs": [],
   "source": [
    "purchases_discount = 0\n",
    "purchases_without_d = 0\n",
    "without_pur_discount = 0\n",
    "without_pur_without_d = 0\n",
    "current_id = 0\n",
    "for i in range(sessions.shape[0]):\n",
    "    if(sessions.iloc[i]['session_id'] != current_id):\n",
    "        current_id = sessions.iloc[i]['session_id']\n",
    "        if(sessions.iloc[i]['purchase']):\n",
    "            if(sessions.iloc[i]['offered_discount']):\n",
    "                purchases_discount += 1\n",
    "            else:\n",
    "                purchases_without_d += 1\n",
    "        else:\n",
    "            if(sessions.iloc[i]['offered_discount']):\n",
    "                without_pur_discount += 1\n",
    "            else:\n",
    "                without_pur_without_d += 1"
   ]
  },
  {
   "cell_type": "markdown",
   "id": "crazy-colonial",
   "metadata": {},
   "source": [
    "### Discount <a name=\"discount\"></a>\n",
    "Analizując zniżkę chcieliśmy sprawdzić jak sam fakt zaproponowania zniżki wpływa na decyzję zakupu, a także to jaki ma wpływ wysokość zniżki\n",
    "\n",
    "### Bez proponowania zniżki\n",
    "Liczba sesji nie zakończonych zakupem jest o ~2% więcej niż sesji zakończonych zakupem\n",
    "\n",
    "### Z proponowaną zniżką\n",
    "Liczba sesji nie zakończonych zakupem jest o ~1.5% więcej niż sesji zakończonych zakupem\n",
    "\n",
    "Dlatego też obserwujemy, że fakt przyznania zniżki daje bardzo znikomą poprawę."
   ]
  },
  {
   "cell_type": "code",
   "execution_count": null,
   "id": "official-paraguay",
   "metadata": {},
   "outputs": [],
   "source": [
    "labels = ['purchases', 'without_purchase']\n",
    "with_discount = [purchases_discount, without_pur_discount]\n",
    "without_discount = [purchases_without_d, without_pur_without_d]\n",
    "\n",
    "x = np.arange(len(labels))\n",
    "width = 0.2\n",
    "\n",
    "fig, ax = plt.subplots(figsize=(10,6))\n",
    "rects1 = ax.bar(x - width/2, with_discount, width, label='Discount')\n",
    "rects2 = ax.bar(x + width/2, without_discount, width, label='Without discount')\n",
    "                \n",
    "ax.set_ylabel('Number')\n",
    "ax.set_title('Number of buying vs non buying sesions with or without discount')\n",
    "ax.set_xticks(x)\n",
    "ax.set_xticklabels(labels)\n",
    "ax.legend()\n",
    "                \n",
    "autolabel(rects1, ax)\n",
    "autolabel(rects2, ax)\n",
    "\n",
    "fig.tight_layout()\n",
    "\n",
    "plt.show()"
   ]
  },
  {
   "cell_type": "markdown",
   "id": "confidential-recorder",
   "metadata": {},
   "source": [
    "### Wysokość zniżki\n",
    "#### 5%\n",
    "Liczba sesji nie zakończonych zakupem jest o ~4% więcej niż sesji zakończonych zakupem\n",
    "#### 10%\n",
    "Liczba sesji nie zakończonych zakupem jest o ~2% więcej niż sesji zakończonych zakupem\n",
    "#### 15%\n",
    "Liczba sesji nie zakończonych zakupem jest o ~4% więcej niż sesji zakończonych zakupem\n",
    "#### 20%\n",
    "Liczba sesji nie zakończonych zakupem jest o ~4% mniej niż sesji zakończonych zakupem\n",
    "\n",
    "Po analizie różnic między liczbą sesji nie zakończonych, a zakończonych zakupem podejrzewamy, że podane dane są niepoprawne, ponieważ spodziewalibyśmy się, że im większa zniżka tym większa % sesji zakończonych zakupem."
   ]
  },
  {
   "cell_type": "code",
   "execution_count": null,
   "id": "operating-resolution",
   "metadata": {},
   "outputs": [],
   "source": [
    "discounts = sessions['offered_discount'].unique()\n",
    "discounts.sort()\n",
    "discounts"
   ]
  },
  {
   "cell_type": "code",
   "execution_count": null,
   "id": "ultimate-perception",
   "metadata": {},
   "outputs": [],
   "source": [
    "data = [[0,0], [0,0], [0,0], [0,0], [0,0]]\n",
    "current_id = 0\n",
    "for i in range(sessions.shape[0]):\n",
    "    if(sessions.iloc[i]['session_id'] != current_id):\n",
    "        current_id = sessions.iloc[i]['session_id']\n",
    "        if(sessions.iloc[i]['purchase']):\n",
    "            discount_index = sessions.iloc[i]['offered_discount']/5\n",
    "            data[int(discount_index)][0] += 1\n",
    "        else:\n",
    "            discount_index = sessions.iloc[i]['offered_discount']/5\n",
    "            data[int(discount_index)][1] += 1\n",
    "            \n",
    "if(sessions.iloc[i]['purchase']):\n",
    "    discount_index = sessions.iloc[i]['offered_discount']/5\n",
    "    data[int(discount_index)][0] += 1\n",
    "else:\n",
    "    discount_index = sessions.iloc[i]['offered_discount']/5\n",
    "    data[int(discount_index)][1] += 1\n"
   ]
  },
  {
   "cell_type": "code",
   "execution_count": null,
   "id": "contrary-relation",
   "metadata": {},
   "outputs": [],
   "source": [
    "labels = ['0', '5', '10', '15', '20']\n",
    "purchases = [data[0][0], data[1][0], data[2][0], data[3][0], data[4][0]]\n",
    "without_purchases = [data[0][1], data[1][1], data[2][1], data[3][1], data[4][1]]\n",
    "\n",
    "x = np.arange(len(labels))\n",
    "width = 0.45\n",
    "\n",
    "fig, ax = plt.subplots(figsize=(10,6))\n",
    "rects1 = ax.bar(x - width/2, purchases, width, label='Purchases')\n",
    "rects2 = ax.bar(x + width/2, without_purchases, width, label='Without purchase')\n",
    "                \n",
    "ax.set_ylabel('Amount')\n",
    "ax.set_title('Amount by purcheses and discount')\n",
    "ax.set_xticks(x)\n",
    "ax.set_xticklabels(labels)\n",
    "ax.legend()\n",
    "                \n",
    "autolabel(rects1, ax)\n",
    "autolabel(rects2, ax)\n",
    "\n",
    "fig.tight_layout()\n",
    "\n",
    "plt.show()"
   ]
  },
  {
   "cell_type": "markdown",
   "id": "polyphonic-elder",
   "metadata": {},
   "source": [
    "### Duration <a name=\"duration\"></a>\n",
    "Doprecyzowując jest to długość trwania sesji do momentu zalogowania danego eventu, a nie długość całkowita tzn. długość sesji obliczamy jako:\n",
    "$session\\_event\\_timestamp - session\\_start\\_timestamp$ gdzie: <br> *session_event_timestamp* - timestamp eventu z tabeli *sessions* <br> *session_event_timestamp* - timestamp eventu, który nastąpił najwcześniej podczas trwania sesji, do której należy dany rekord\n",
    "\n",
    "Analizując długosć trwania sesji chcieliśmy zweryfikować jaki wpływ na kupno ma długość trwania sesji."
   ]
  },
  {
   "cell_type": "code",
   "execution_count": null,
   "id": "transparent-iraqi",
   "metadata": {},
   "outputs": [],
   "source": [
    "purchases = []\n",
    "without_p = []\n",
    "\n",
    "current_id = 0\n",
    "for i in range(len(data_set)):\n",
    "    if(sessions.iloc[i]['session_id'] != current_id):\n",
    "        current_id = sessions.iloc[i]['session_id']\n",
    "        if(data_set[i][2]):\n",
    "            purchases.append(data_set[i][1])\n",
    "        else:\n",
    "            without_p.append(data_set[i][1])\n",
    "\n",
    "pur_time = np.array(purchases)\n",
    "without_pur_time = np.array(without_p)"
   ]
  },
  {
   "cell_type": "code",
   "execution_count": null,
   "id": "amazing-birth",
   "metadata": {
    "scrolled": true
   },
   "outputs": [],
   "source": [
    "df = pd.DataFrame({\"Average\" : [np.average(pur_time), np.average(without_pur_time)],\n",
    "                   \"Median\" : [np.median(pur_time), np.median(without_pur_time)],\n",
    "                   \"Min\" : [np.min(pur_time), np.min(without_pur_time)],\n",
    "                   \"Max\" : [np.max(pur_time), np.max(without_pur_time)],\n",
    "                   \"Variance\" : [np.var(pur_time), np.var(without_pur_time)],\n",
    "                   \"Standard deviation\" : [np.std(pur_time), np.std(without_pur_time)],\n",
    "                   \"Amount\" : [len(pur_time), len(without_pur_time)]})\n",
    "df = df.rename(index={0 : \"Purchases\", 1 : \"Without Purchase\"})\n",
    "df"
   ]
  },
  {
   "cell_type": "code",
   "execution_count": null,
   "id": "military-portsmouth",
   "metadata": {},
   "outputs": [],
   "source": [
    "purchase = np.zeros(24)\n",
    "current_id = 0\n",
    "for i in range(len(pur_time)):\n",
    "    purchase[int(pur_time[i]/100)] += 1"
   ]
  },
  {
   "cell_type": "code",
   "execution_count": null,
   "id": "flying-assessment",
   "metadata": {},
   "outputs": [],
   "source": [
    "without = np.zeros(24)\n",
    "for i in range(len(without_pur_time)):\n",
    "    without[int(without_pur_time[i]/100)] += 1"
   ]
  },
  {
   "cell_type": "code",
   "execution_count": null,
   "id": "historical-basin",
   "metadata": {},
   "outputs": [],
   "source": [
    "labels = ['1', '2', '3', '4', '5', '6', '7', '8', '9', '10', '11', '12', '13',\n",
    "          '14', '15', '16', '17', '18', '19', '20', '21', '22', '23', '24']\n",
    "\n",
    "x = np.arange(len(labels))\n",
    "width = 0.35\n",
    "\n",
    "fig, axs = plt.subplots(ncols=2, figsize=(20,6))\n",
    "\n",
    "axs[0].bar(x, purchase, width)\n",
    "print(purchase.shape)\n",
    "\n",
    "axs[0].set_ylabel('Number')\n",
    "axs[0].set_title('Duration of buying session in minutes (rounded up)', fontsize=18)\n",
    "axs[0].set_xticks(x)\n",
    "axs[0].set_xticklabels(labels)\n",
    "\n",
    "axs[1].bar(x, without, width)\n",
    "\n",
    "axs[1].set_ylabel('Number')\n",
    "axs[1].set_title('Duration of non-buying session in minutes (rounded up)', fontsize=18)\n",
    "axs[1].set_xticks(x)\n",
    "axs[1].set_xticklabels(labels)\n",
    "\n",
    "plt.show()"
   ]
  },
  {
   "cell_type": "markdown",
   "id": "devoted-chamber",
   "metadata": {},
   "source": [
    "### unique_item_views <a name=\"unique_item_views\"></a>"
   ]
  },
  {
   "cell_type": "code",
   "execution_count": null,
   "id": "adjusted-midnight",
   "metadata": {},
   "outputs": [],
   "source": [
    "max_items = 0\n",
    "max_categories = 0\n",
    "current_session = 100001 \n",
    "items_shown = []\n",
    "items_shown_w = []\n",
    "categories_shown = []\n",
    "categories_shown_w = []\n",
    "\n",
    "for i in range(sessions.shape[0]):\n",
    "    if(sessions.iloc[i]['session_id'] != current_session):\n",
    "        if(sessions.iloc[i]['purchase']):\n",
    "            items_shown.append(max_items)\n",
    "            categories_shown.append(max_categories)\n",
    "        else:\n",
    "            items_shown_w.append(max_items)\n",
    "            categories_shown_w.append(max_categories)\n",
    "        current_session = sessions.iloc[i]['session_id']\n",
    "    max_items = sessions.iloc[i]['unique_item_views']\n",
    "    max_categories = sessions.iloc[i]['unique_categories']"
   ]
  },
  {
   "cell_type": "code",
   "execution_count": null,
   "id": "suspended-count",
   "metadata": {},
   "outputs": [],
   "source": [
    "unique, counts = np.unique(np.array(items_shown), return_counts = True)\n",
    "unique_w, counts_w = np.unique(np.array(items_shown_w), return_counts = True)"
   ]
  },
  {
   "cell_type": "code",
   "execution_count": null,
   "id": "contemporary-orleans",
   "metadata": {},
   "outputs": [],
   "source": [
    "x = np.arange(len(unique))\n",
    "width = 0.45\n",
    "\n",
    "fig, ax = plt.subplots(figsize=(10,6))\n",
    "rects1 = ax.bar(x - width/2, counts, width, label='Purchases')\n",
    "rects2 = ax.bar(x + width/2, counts_w, width, label='Without purchase')\n",
    "                \n",
    "ax.set_ylabel('Amount')\n",
    "ax.set_title('Amount of shown items by purcheses')\n",
    "ax.set_xticks(x)\n",
    "ax.set_xticklabels(unique)\n",
    "ax.legend()\n",
    "                \n",
    "autolabel(rects1, ax)\n",
    "autolabel(rects2, ax)\n",
    "\n",
    "fig.tight_layout()\n",
    "\n",
    "plt.show()"
   ]
  },
  {
   "cell_type": "markdown",
   "id": "disabled-aircraft",
   "metadata": {},
   "source": [
    "### unique_categories <a name=\"unique_categories\"></a>"
   ]
  },
  {
   "cell_type": "code",
   "execution_count": null,
   "id": "sudden-colleague",
   "metadata": {},
   "outputs": [],
   "source": [
    "unique, counts = np.unique(np.array(categories_shown), return_counts = True)\n",
    "unique_w, counts_w = np.unique(np.array(categories_shown_w), return_counts = True)"
   ]
  },
  {
   "cell_type": "code",
   "execution_count": null,
   "id": "encouraging-paris",
   "metadata": {},
   "outputs": [],
   "source": [
    "x = np.arange(len(unique))\n",
    "width = 0.45\n",
    "\n",
    "fig, ax = plt.subplots(figsize=(10,6))\n",
    "rects1 = ax.bar(x - width/2, counts, width, label='Purchases')\n",
    "rects2 = ax.bar(x + width/2, counts_w, width, label='Without purchase')\n",
    "                \n",
    "ax.set_ylabel('Amount')\n",
    "ax.set_title('Amount of shown categories by purcheses')\n",
    "ax.set_xticks(x)\n",
    "ax.set_xticklabels(unique)\n",
    "ax.legend()\n",
    "                \n",
    "autolabel(rects1, ax)\n",
    "autolabel(rects2, ax)\n",
    "\n",
    "fig.tight_layout()\n",
    "\n",
    "plt.show()"
   ]
  },
  {
   "cell_type": "markdown",
   "id": "heavy-desperate",
   "metadata": {},
   "source": [
    "### click_rate <a name=\"click_rate\"></a>"
   ]
  },
  {
   "cell_type": "code",
   "execution_count": null,
   "id": "revised-boston",
   "metadata": {},
   "outputs": [],
   "source": [
    "click_rate = 0\n",
    "current_session = 100001 \n",
    "click_rate_p = []\n",
    "click_rate_w = []\n",
    "\n",
    "for i in range(sessions.shape[0]):\n",
    "    if(sessions.iloc[i]['session_id'] != current_session):\n",
    "        if(sessions.iloc[i]['purchase']):\n",
    "            click_rate_p.append(click_rate)\n",
    "        else:\n",
    "            click_rate_w.append(click_rate)\n",
    "        current_session = sessions.iloc[i]['session_id']\n",
    "    click_rate = sessions.iloc[i]['click_rate']"
   ]
  },
  {
   "cell_type": "code",
   "execution_count": null,
   "id": "engaged-disaster",
   "metadata": {},
   "outputs": [],
   "source": [
    "df = pd.DataFrame({\"Average\" : [np.average(click_rate_p), np.average(click_rate_w)],\n",
    "                   \"Median\" : [np.median(click_rate_p), np.median(click_rate_w)],\n",
    "                   \"Min\" : [np.min(click_rate_p), np.min(click_rate_w)],\n",
    "                   \"Max\" : [np.max(click_rate_p), np.max(click_rate_w)],\n",
    "                   \"Variance\" : [np.var(click_rate_p), np.var(click_rate_w)],\n",
    "                   \"Standard deviation\" : [np.std(click_rate_p), np.std(click_rate_w)],\n",
    "                   \"Amount\" : [len(click_rate_p), len(click_rate_w)]})\n",
    "df = df.rename(index={0 : \"Purchases\", 1 : \"Without Purchase\"})\n",
    "df"
   ]
  },
  {
   "cell_type": "markdown",
   "id": "contemporary-timothy",
   "metadata": {},
   "source": [
    "## Literatura\n",
    "* [Towards early purchase intention prediction in online session based retailing systems](\"https://link.springer.com/article/10.1007/s12525-020-00448-x\")"
   ]
  }
 ],
 "metadata": {
  "kernelspec": {
   "display_name": "Python 3",
   "language": "python",
   "name": "python3"
  },
  "language_info": {
   "codemirror_mode": {
    "name": "ipython",
    "version": 3
   },
   "file_extension": ".py",
   "mimetype": "text/x-python",
   "name": "python",
   "nbconvert_exporter": "python",
   "pygments_lexer": "ipython3",
   "version": "3.8.8"
  }
 },
 "nbformat": 4,
 "nbformat_minor": 5
}
